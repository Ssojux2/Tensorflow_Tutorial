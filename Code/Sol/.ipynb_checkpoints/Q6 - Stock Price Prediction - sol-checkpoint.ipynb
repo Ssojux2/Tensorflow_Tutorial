{
 "cells": [
  {
   "cell_type": "markdown",
   "metadata": {},
   "source": [
    "# Stock Price Prediction\n",
    "\n",
    "### Task\n",
    "* 모델 및 하이퍼파라미터들을 바꿔가며 accuracy를 높혀 보자\n",
    "* 밑에 제시된 여러가지 시도를 해보자\n",
    "* The main flow of this code is referenced in this [blog](https://medium.com/@aniruddha.choudhury94/stock-market-prediction-by-recurrent-neural-network-on-lstm-model-56de700bff68)\n",
    "* 주식데이터를 직접 다운 받아서 실제 예측을 해보자\n",
    "  * Train data: 2017년 1월 1일 ~ 2019년 12월 31일 데이터\n",
    "  * Test data: 2019년 1월 1일 ~ 2019년 2월 28일 데이터\n",
    "  * Close price 예측 (baseline은 open price)\n",
    "\n",
    "### Dataset\n",
    "* [Yahoo finance datasets](https://www.imdb.com/interfaces/)\n",
    "* 2-3년간 daily stock price 데이터를 이용하여 미래 한달의 주식가격을 예측\n",
    "\n",
    "### Baseline code\n",
    "* Dataset: train, test로 split\n",
    "* Input data shape: (`batch_size`, `past_day`=60, 1)\n",
    "* Output data shape: (`batch_size`, 1)\n",
    "* Architecture: \n",
    "  * `LSTM` - `Dense`\n",
    "  * [`tf.keras.layers`](https://www.tensorflow.org/api_docs/python/tf/keras/layers) 사용\n",
    "* Training\n",
    "  * `model.fit` 사용\n",
    "* Evaluation\n",
    "  * `model.evaluate` 사용 for test dataset\n",
    "\n",
    "### Try some techniques\n",
    "* Change model architectures (Custom model)\n",
    "  * Use another cells (LSTM, GRU, etc.)\n",
    "  * Use dropout layers\n",
    "  * Change the `past_day`\n",
    "* Data augmentation (if possible)\n",
    "* Try Early stopping\n",
    "* Use various features (open, high, low, close prices and volume features)"
   ]
  },
  {
   "cell_type": "markdown",
   "metadata": {},
   "source": [
    "## Import modules"
   ]
  },
  {
   "cell_type": "code",
   "execution_count": 1,
   "metadata": {},
   "outputs": [],
   "source": [
    "from __future__ import absolute_import\n",
    "from __future__ import division\n",
    "from __future__ import print_function\n",
    "\n",
    "import os\n",
    "import sys\n",
    "import time\n",
    "\n",
    "import numpy as np\n",
    "import pandas as pd\n",
    "import matplotlib.pyplot as plt\n",
    "%matplotlib inline\n",
    "\n",
    "from IPython import display\n",
    "\n",
    "import tensorflow as tf\n",
    "from tensorflow.keras import layers"
   ]
  },
  {
   "cell_type": "markdown",
   "metadata": {},
   "source": [
    "## Data Download\n",
    "\n",
    "* We colud download daliy stock price using `fix_yahoo_finance` library.\n",
    "* Some stock ticker symbols [NASDAQ] [link](http://eoddata.com/symbols.aspx)\n",
    "  * `AAPL`: Apple Inc.\n",
    "  * `AMZM`: Amazon.com Inc.\n",
    "  * `GOOG`: Alphabet Class C (Google)\n",
    "  * `MSFT`: Microsoft Corp."
   ]
  },
  {
   "cell_type": "code",
   "execution_count": 2,
   "metadata": {},
   "outputs": [
    {
     "name": "stdout",
     "output_type": "stream",
     "text": [
      "[*********************100%***********************]  1 of 1 downloaded\n"
     ]
    }
   ],
   "source": [
    "import fix_yahoo_finance as yf\n",
    "\n",
    "dataset = yf.download(tickers='MSFT', start='2017-01-01', end='2019-01-01', auto_adjust=True)"
   ]
  },
  {
   "cell_type": "code",
   "execution_count": 3,
   "metadata": {},
   "outputs": [
    {
     "data": {
      "text/html": [
       "<div>\n",
       "<style scoped>\n",
       "    .dataframe tbody tr th:only-of-type {\n",
       "        vertical-align: middle;\n",
       "    }\n",
       "\n",
       "    .dataframe tbody tr th {\n",
       "        vertical-align: top;\n",
       "    }\n",
       "\n",
       "    .dataframe thead th {\n",
       "        text-align: right;\n",
       "    }\n",
       "</style>\n",
       "<table border=\"1\" class=\"dataframe\">\n",
       "  <thead>\n",
       "    <tr style=\"text-align: right;\">\n",
       "      <th></th>\n",
       "      <th>Open</th>\n",
       "      <th>High</th>\n",
       "      <th>Low</th>\n",
       "      <th>Close</th>\n",
       "      <th>Volume</th>\n",
       "    </tr>\n",
       "    <tr>\n",
       "      <th>Date</th>\n",
       "      <th></th>\n",
       "      <th></th>\n",
       "      <th></th>\n",
       "      <th></th>\n",
       "      <th></th>\n",
       "    </tr>\n",
       "  </thead>\n",
       "  <tbody>\n",
       "    <tr>\n",
       "      <th>2017-01-03</th>\n",
       "      <td>59.493782</td>\n",
       "      <td>59.541156</td>\n",
       "      <td>58.868429</td>\n",
       "      <td>59.294807</td>\n",
       "      <td>20694100</td>\n",
       "    </tr>\n",
       "    <tr>\n",
       "      <th>2017-01-04</th>\n",
       "      <td>59.200055</td>\n",
       "      <td>59.455881</td>\n",
       "      <td>58.858952</td>\n",
       "      <td>59.029503</td>\n",
       "      <td>21340000</td>\n",
       "    </tr>\n",
       "    <tr>\n",
       "      <th>2017-01-05</th>\n",
       "      <td>58.925278</td>\n",
       "      <td>59.370605</td>\n",
       "      <td>58.773677</td>\n",
       "      <td>59.029503</td>\n",
       "      <td>24876000</td>\n",
       "    </tr>\n",
       "    <tr>\n",
       "      <th>2017-01-06</th>\n",
       "      <td>59.029504</td>\n",
       "      <td>59.834885</td>\n",
       "      <td>58.783155</td>\n",
       "      <td>59.541157</td>\n",
       "      <td>19922900</td>\n",
       "    </tr>\n",
       "    <tr>\n",
       "      <th>2017-01-09</th>\n",
       "      <td>59.465358</td>\n",
       "      <td>59.768563</td>\n",
       "      <td>59.256909</td>\n",
       "      <td>59.351658</td>\n",
       "      <td>20382700</td>\n",
       "    </tr>\n",
       "  </tbody>\n",
       "</table>\n",
       "</div>"
      ],
      "text/plain": [
       "                 Open       High        Low      Close    Volume\n",
       "Date                                                            \n",
       "2017-01-03  59.493782  59.541156  58.868429  59.294807  20694100\n",
       "2017-01-04  59.200055  59.455881  58.858952  59.029503  21340000\n",
       "2017-01-05  58.925278  59.370605  58.773677  59.029503  24876000\n",
       "2017-01-06  59.029504  59.834885  58.783155  59.541157  19922900\n",
       "2017-01-09  59.465358  59.768563  59.256909  59.351658  20382700"
      ]
     },
     "execution_count": 3,
     "metadata": {},
     "output_type": "execute_result"
    }
   ],
   "source": [
    "dataset.head()"
   ]
  },
  {
   "cell_type": "markdown",
   "metadata": {},
   "source": [
    "### Data Preprocessing\n",
    "\n",
    "1. Data discretization: Part of data reduction but with particular importance, especially for numerical data\n",
    "2. Data transformation: Normalization.\n",
    "3. Data cleaning: Fill in missing values.\n",
    "4. Data integration: Integration of data files.\n",
    "\n",
    "After the dataset is transformed into a clean dataset, the dataset is divided into training and testing sets so as to evaluate. Creating a data structure with 60 timesteps and 1 output"
   ]
  },
  {
   "cell_type": "code",
   "execution_count": 4,
   "metadata": {},
   "outputs": [
    {
     "data": {
      "text/plain": [
       "Open      False\n",
       "High      False\n",
       "Low       False\n",
       "Close     False\n",
       "Volume    False\n",
       "dtype: bool"
      ]
     },
     "execution_count": 4,
     "metadata": {},
     "output_type": "execute_result"
    }
   ],
   "source": [
    "#Data cleaning\n",
    "dataset.isna().any()"
   ]
  },
  {
   "cell_type": "code",
   "execution_count": 5,
   "metadata": {},
   "outputs": [
    {
     "name": "stdout",
     "output_type": "stream",
     "text": [
      "<class 'pandas.core.frame.DataFrame'>\n",
      "DatetimeIndex: 502 entries, 2017-01-03 to 2018-12-31\n",
      "Data columns (total 5 columns):\n",
      "Open      502 non-null float64\n",
      "High      502 non-null float64\n",
      "Low       502 non-null float64\n",
      "Close     502 non-null float64\n",
      "Volume    502 non-null int64\n",
      "dtypes: float64(4), int64(1)\n",
      "memory usage: 23.5 KB\n"
     ]
    }
   ],
   "source": [
    "dataset.info()"
   ]
  },
  {
   "cell_type": "code",
   "execution_count": 6,
   "metadata": {},
   "outputs": [
    {
     "data": {
      "image/png": "[encoded data removed]",
      "text/plain": [
       "<Figure size 1152x432 with 1 Axes>"
      ]
     },
     "metadata": {
      "needs_background": "light"
     },
     "output_type": "display_data"
    }
   ],
   "source": [
    "dataset['Open'].plot(figsize=(16, 6))\n",
    "dataset.Close.plot(figsize=(16, 6))\n",
    "plt.show()"
   ]
  },
  {
   "cell_type": "code",
   "execution_count": 7,
   "metadata": {},
   "outputs": [],
   "source": [
    "# convert column to float type when column type is an object\n",
    "#dataset[\"Close\"] = dataset[\"Close\"].str.replace(',', '').astype(float)"
   ]
  },
  {
   "cell_type": "code",
   "execution_count": 8,
   "metadata": {},
   "outputs": [
    {
     "data": {
      "text/html": [
       "<div>\n",
       "<style scoped>\n",
       "    .dataframe tbody tr th:only-of-type {\n",
       "        vertical-align: middle;\n",
       "    }\n",
       "\n",
       "    .dataframe tbody tr th {\n",
       "        vertical-align: top;\n",
       "    }\n",
       "\n",
       "    .dataframe thead th {\n",
       "        text-align: right;\n",
       "    }\n",
       "</style>\n",
       "<table border=\"1\" class=\"dataframe\">\n",
       "  <thead>\n",
       "    <tr style=\"text-align: right;\">\n",
       "      <th></th>\n",
       "      <th>Open</th>\n",
       "      <th>High</th>\n",
       "      <th>Low</th>\n",
       "      <th>Close</th>\n",
       "      <th>Volume</th>\n",
       "    </tr>\n",
       "    <tr>\n",
       "      <th>Date</th>\n",
       "      <th></th>\n",
       "      <th></th>\n",
       "      <th></th>\n",
       "      <th></th>\n",
       "      <th></th>\n",
       "    </tr>\n",
       "  </thead>\n",
       "  <tbody>\n",
       "    <tr>\n",
       "      <th>2017-01-03</th>\n",
       "      <td>NaN</td>\n",
       "      <td>NaN</td>\n",
       "      <td>NaN</td>\n",
       "      <td>NaN</td>\n",
       "      <td>NaN</td>\n",
       "    </tr>\n",
       "    <tr>\n",
       "      <th>2017-01-04</th>\n",
       "      <td>NaN</td>\n",
       "      <td>NaN</td>\n",
       "      <td>NaN</td>\n",
       "      <td>NaN</td>\n",
       "      <td>NaN</td>\n",
       "    </tr>\n",
       "    <tr>\n",
       "      <th>2017-01-05</th>\n",
       "      <td>NaN</td>\n",
       "      <td>NaN</td>\n",
       "      <td>NaN</td>\n",
       "      <td>NaN</td>\n",
       "      <td>NaN</td>\n",
       "    </tr>\n",
       "    <tr>\n",
       "      <th>2017-01-06</th>\n",
       "      <td>NaN</td>\n",
       "      <td>NaN</td>\n",
       "      <td>NaN</td>\n",
       "      <td>NaN</td>\n",
       "      <td>NaN</td>\n",
       "    </tr>\n",
       "    <tr>\n",
       "      <th>2017-01-09</th>\n",
       "      <td>NaN</td>\n",
       "      <td>NaN</td>\n",
       "      <td>NaN</td>\n",
       "      <td>NaN</td>\n",
       "      <td>NaN</td>\n",
       "    </tr>\n",
       "    <tr>\n",
       "      <th>2017-01-10</th>\n",
       "      <td>NaN</td>\n",
       "      <td>NaN</td>\n",
       "      <td>NaN</td>\n",
       "      <td>NaN</td>\n",
       "      <td>NaN</td>\n",
       "    </tr>\n",
       "    <tr>\n",
       "      <th>2017-01-11</th>\n",
       "      <td>59.267734</td>\n",
       "      <td>59.662979</td>\n",
       "      <td>58.957765</td>\n",
       "      <td>59.350302</td>\n",
       "      <td>2.104657e+07</td>\n",
       "    </tr>\n",
       "    <tr>\n",
       "      <th>2017-01-12</th>\n",
       "      <td>59.304281</td>\n",
       "      <td>59.738780</td>\n",
       "      <td>58.933401</td>\n",
       "      <td>59.354363</td>\n",
       "      <td>2.108573e+07</td>\n",
       "    </tr>\n",
       "    <tr>\n",
       "      <th>2017-01-13</th>\n",
       "      <td>59.323231</td>\n",
       "      <td>59.755023</td>\n",
       "      <td>58.964533</td>\n",
       "      <td>59.408506</td>\n",
       "      <td>2.081177e+07</td>\n",
       "    </tr>\n",
       "    <tr>\n",
       "      <th>2017-01-17</th>\n",
       "      <td>59.389556</td>\n",
       "      <td>59.760437</td>\n",
       "      <td>58.964533</td>\n",
       "      <td>59.439638</td>\n",
       "      <td>2.021006e+07</td>\n",
       "    </tr>\n",
       "    <tr>\n",
       "      <th>2017-01-18</th>\n",
       "      <td>59.439639</td>\n",
       "      <td>59.699527</td>\n",
       "      <td>58.975362</td>\n",
       "      <td>59.393617</td>\n",
       "      <td>2.017394e+07</td>\n",
       "    </tr>\n",
       "    <tr>\n",
       "      <th>2017-01-19</th>\n",
       "      <td>59.369253</td>\n",
       "      <td>59.685990</td>\n",
       "      <td>58.929340</td>\n",
       "      <td>59.347595</td>\n",
       "      <td>1.989809e+07</td>\n",
       "    </tr>\n",
       "    <tr>\n",
       "      <th>2017-01-20</th>\n",
       "      <td>59.361131</td>\n",
       "      <td>59.652151</td>\n",
       "      <td>58.941522</td>\n",
       "      <td>59.363839</td>\n",
       "      <td>2.155816e+07</td>\n",
       "    </tr>\n",
       "    <tr>\n",
       "      <th>2017-01-23</th>\n",
       "      <td>59.373313</td>\n",
       "      <td>59.637261</td>\n",
       "      <td>58.960472</td>\n",
       "      <td>59.332706</td>\n",
       "      <td>2.178391e+07</td>\n",
       "    </tr>\n",
       "    <tr>\n",
       "      <th>2017-01-24</th>\n",
       "      <td>59.392264</td>\n",
       "      <td>59.683284</td>\n",
       "      <td>59.094477</td>\n",
       "      <td>59.455882</td>\n",
       "      <td>2.231316e+07</td>\n",
       "    </tr>\n",
       "    <tr>\n",
       "      <th>2017-01-25</th>\n",
       "      <td>59.572291</td>\n",
       "      <td>59.849774</td>\n",
       "      <td>59.243371</td>\n",
       "      <td>59.588534</td>\n",
       "      <td>2.292036e+07</td>\n",
       "    </tr>\n",
       "    <tr>\n",
       "      <th>2017-01-26</th>\n",
       "      <td>59.767207</td>\n",
       "      <td>60.098833</td>\n",
       "      <td>59.449115</td>\n",
       "      <td>59.824056</td>\n",
       "      <td>2.619044e+07</td>\n",
       "    </tr>\n",
       "    <tr>\n",
       "      <th>2017-01-27</th>\n",
       "      <td>60.135379</td>\n",
       "      <td>60.533331</td>\n",
       "      <td>59.824056</td>\n",
       "      <td>60.268029</td>\n",
       "      <td>2.978300e+07</td>\n",
       "    </tr>\n",
       "    <tr>\n",
       "      <th>2017-01-30</th>\n",
       "      <td>60.602364</td>\n",
       "      <td>60.913687</td>\n",
       "      <td>60.175987</td>\n",
       "      <td>60.651091</td>\n",
       "      <td>3.166867e+07</td>\n",
       "    </tr>\n",
       "    <tr>\n",
       "      <th>2017-01-31</th>\n",
       "      <td>60.898798</td>\n",
       "      <td>61.229070</td>\n",
       "      <td>60.431813</td>\n",
       "      <td>60.909624</td>\n",
       "      <td>3.096253e+07</td>\n",
       "    </tr>\n",
       "  </tbody>\n",
       "</table>\n",
       "</div>"
      ],
      "text/plain": [
       "                 Open       High        Low      Close        Volume\n",
       "Date                                                                \n",
       "2017-01-03        NaN        NaN        NaN        NaN           NaN\n",
       "2017-01-04        NaN        NaN        NaN        NaN           NaN\n",
       "2017-01-05        NaN        NaN        NaN        NaN           NaN\n",
       "2017-01-06        NaN        NaN        NaN        NaN           NaN\n",
       "2017-01-09        NaN        NaN        NaN        NaN           NaN\n",
       "2017-01-10        NaN        NaN        NaN        NaN           NaN\n",
       "2017-01-11  59.267734  59.662979  58.957765  59.350302  2.104657e+07\n",
       "2017-01-12  59.304281  59.738780  58.933401  59.354363  2.108573e+07\n",
       "2017-01-13  59.323231  59.755023  58.964533  59.408506  2.081177e+07\n",
       "2017-01-17  59.389556  59.760437  58.964533  59.439638  2.021006e+07\n",
       "2017-01-18  59.439639  59.699527  58.975362  59.393617  2.017394e+07\n",
       "2017-01-19  59.369253  59.685990  58.929340  59.347595  1.989809e+07\n",
       "2017-01-20  59.361131  59.652151  58.941522  59.363839  2.155816e+07\n",
       "2017-01-23  59.373313  59.637261  58.960472  59.332706  2.178391e+07\n",
       "2017-01-24  59.392264  59.683284  59.094477  59.455882  2.231316e+07\n",
       "2017-01-25  59.572291  59.849774  59.243371  59.588534  2.292036e+07\n",
       "2017-01-26  59.767207  60.098833  59.449115  59.824056  2.619044e+07\n",
       "2017-01-27  60.135379  60.533331  59.824056  60.268029  2.978300e+07\n",
       "2017-01-30  60.602364  60.913687  60.175987  60.651091  3.166867e+07\n",
       "2017-01-31  60.898798  61.229070  60.431813  60.909624  3.096253e+07"
      ]
     },
     "execution_count": 8,
     "metadata": {},
     "output_type": "execute_result"
    }
   ],
   "source": [
    "# 7 day rolling mean\n",
    "dataset.rolling(7).mean().head(20)"
   ]
  },
  {
   "cell_type": "code",
   "execution_count": 9,
   "metadata": {},
   "outputs": [
    {
     "data": {
      "image/png": "[encoded data removed]",
      "text/plain": [
       "<Figure size 1152x432 with 1 Axes>"
      ]
     },
     "metadata": {
      "needs_background": "light"
     },
     "output_type": "display_data"
    }
   ],
   "source": [
    "dataset['Close: 30 Day Mean'] = dataset.Close.rolling(window=30).mean()\n",
    "dataset[['Close', 'Close: 30 Day Mean']].plot(figsize=(16, 6))\n",
    "plt.show()"
   ]
  },
  {
   "cell_type": "markdown",
   "metadata": {},
   "source": [
    "### Make a training dataset"
   ]
  },
  {
   "cell_type": "code",
   "execution_count": 10,
   "metadata": {},
   "outputs": [],
   "source": [
    "train_data = dataset['Open']\n",
    "train_data = pd.DataFrame(train_data)"
   ]
  },
  {
   "cell_type": "code",
   "execution_count": 11,
   "metadata": {},
   "outputs": [],
   "source": [
    "# Feature Scaling\n",
    "from sklearn.preprocessing import MinMaxScaler\n",
    "sc = MinMaxScaler(feature_range = (0, 1))\n",
    "train_data_scaled = sc.fit_transform(train_data)"
   ]
  },
  {
   "cell_type": "code",
   "execution_count": 12,
   "metadata": {},
   "outputs": [
    {
     "data": {
      "image/png": "[encoded data removed]",
      "text/plain": [
       "<Figure size 1152x432 with 1 Axes>"
      ]
     },
     "metadata": {
      "needs_background": "light"
     },
     "output_type": "display_data"
    }
   ],
   "source": [
    "plt.figure(figsize=(16, 6))\n",
    "plt.plot(train_data_scaled)\n",
    "plt.show()"
   ]
  },
  {
   "cell_type": "code",
   "execution_count": 13,
   "metadata": {},
   "outputs": [],
   "source": [
    "# Creating a data structure with 60 timesteps and 1 output\n",
    "past_days = 60\n",
    "X_train = []\n",
    "y_train = []\n",
    "for i in range(past_days, len(train_data_scaled)):\n",
    "  X_train.append(train_data_scaled[i-past_days:i, 0])\n",
    "  y_train.append(train_data_scaled[i, 0])\n",
    "X_train, y_train = np.array(X_train), np.array(y_train)\n",
    "\n",
    "# Reshaping\n",
    "X_train = np.reshape(X_train, (X_train.shape[0], X_train.shape[1], 1))\n",
    "\n",
    "# Cast\n",
    "X_train = X_train.astype(np.float32)\n",
    "y_train = y_train.astype(np.float32)"
   ]
  },
  {
   "cell_type": "code",
   "execution_count": 14,
   "metadata": {},
   "outputs": [
    {
     "name": "stdout",
     "output_type": "stream",
     "text": [
      "(442, 60, 1)\n",
      "(442,)\n"
     ]
    }
   ],
   "source": [
    "# We predict the price of next day given past 60 days prices\n",
    "print(X_train.shape)\n",
    "print(y_train.shape)"
   ]
  },
  {
   "cell_type": "markdown",
   "metadata": {},
   "source": [
    "## Build a model"
   ]
  },
  {
   "cell_type": "code",
   "execution_count": 15,
   "metadata": {},
   "outputs": [],
   "source": [
    "model = tf.keras.Sequential()"
   ]
  },
  {
   "cell_type": "code",
   "execution_count": 17,
   "metadata": {},
   "outputs": [],
   "source": [
    "# Adding the first LSTM layer\n",
    "model.add(layers.LSTM(units=50, input_shape=(past_days, 1)))\n",
    "\n",
    "# Adding the output layer\n",
    "model.add(layers.Dense(units=1))"
   ]
  },
  {
   "cell_type": "code",
   "execution_count": 18,
   "metadata": {},
   "outputs": [
    {
     "name": "stdout",
     "output_type": "stream",
     "text": [
      "Model: \"sequential\"\n",
      "_________________________________________________________________\n",
      "Layer (type)                 Output Shape              Param #   \n",
      "=================================================================\n",
      "lstm (LSTM)                  (None, 50)                10400     \n",
      "_________________________________________________________________\n",
      "dense (Dense)                (None, 1)                 51        \n",
      "=================================================================\n",
      "Total params: 10,451\n",
      "Trainable params: 10,451\n",
      "Non-trainable params: 0\n",
      "_________________________________________________________________\n"
     ]
    }
   ],
   "source": [
    "model.summary()"
   ]
  },
  {
   "cell_type": "code",
   "execution_count": 19,
   "metadata": {},
   "outputs": [
    {
     "data": {
      "text/plain": [
       "<tf.Tensor: id=669, shape=(1,), dtype=float32, numpy=array([0.00433207], dtype=float32)>"
      ]
     },
     "execution_count": 19,
     "metadata": {},
     "output_type": "execute_result"
    }
   ],
   "source": [
    "# Check for model\n",
    "model(X_train[0:2])[0]"
   ]
  },
  {
   "cell_type": "code",
   "execution_count": 21,
   "metadata": {},
   "outputs": [],
   "source": [
    "# Compiling the RNN\n",
    "model.compile(optimizer=tf.keras.optimizers.Adam(0.001),\n",
    "              loss='mean_squared_error')"
   ]
  },
  {
   "cell_type": "code",
   "execution_count": 22,
   "metadata": {},
   "outputs": [
    {
     "name": "stdout",
     "output_type": "stream",
     "text": [
      "Train on 442 samples\n",
      "Epoch 1/10\n",
      "442/442 [==============================] - 1s 3ms/sample - loss: 0.0916\n",
      "Epoch 2/10\n",
      "442/442 [==============================] - 0s 139us/sample - loss: 0.0087\n",
      "Epoch 3/10\n",
      "442/442 [==============================] - 0s 155us/sample - loss: 0.0040\n",
      "Epoch 4/10\n",
      "442/442 [==============================] - 0s 158us/sample - loss: 0.0025\n",
      "Epoch 5/10\n",
      "442/442 [==============================] - 0s 172us/sample - loss: 0.0019\n",
      "Epoch 6/10\n",
      "442/442 [==============================] - 0s 149us/sample - loss: 0.0017\n",
      "Epoch 7/10\n",
      "442/442 [==============================] - 0s 143us/sample - loss: 0.0017\n",
      "Epoch 8/10\n",
      "442/442 [==============================] - 0s 152us/sample - loss: 0.0016\n",
      "Epoch 9/10\n",
      "442/442 [==============================] - 0s 161us/sample - loss: 0.0016\n",
      "Epoch 10/10\n",
      "442/442 [==============================] - 0s 152us/sample - loss: 0.0016\n"
     ]
    },
    {
     "data": {
      "text/plain": [
       "<tensorflow.python.keras.callbacks.History at 0x7f361849d358>"
      ]
     },
     "execution_count": 22,
     "metadata": {},
     "output_type": "execute_result"
    }
   ],
   "source": [
    "# Fitting the RNN to the Training set\n",
    "model.fit(X_train, y_train, epochs=10, batch_size=32)"
   ]
  },
  {
   "cell_type": "markdown",
   "metadata": {},
   "source": [
    "## Performance on Test-Set\n",
    "\n",
    "Now that the model has been trained we can calculate its mean squared error on the test-set."
   ]
  },
  {
   "cell_type": "code",
   "execution_count": 23,
   "metadata": {},
   "outputs": [
    {
     "name": "stdout",
     "output_type": "stream",
     "text": [
      "[*********************100%***********************]  1 of 1 downloaded\n"
     ]
    }
   ],
   "source": [
    "# Part 3 - Making the predictions and visualising the results\n",
    "\n",
    "# Getting the real stock price of 2018\n",
    "dataset_test = yf.download(tickers='AAPL', start='2019-01-01', end='2019-02-01', auto_adjust=True)"
   ]
  },
  {
   "cell_type": "code",
   "execution_count": 24,
   "metadata": {},
   "outputs": [
    {
     "data": {
      "text/html": [
       "<div>\n",
       "<style scoped>\n",
       "    .dataframe tbody tr th:only-of-type {\n",
       "        vertical-align: middle;\n",
       "    }\n",
       "\n",
       "    .dataframe tbody tr th {\n",
       "        vertical-align: top;\n",
       "    }\n",
       "\n",
       "    .dataframe thead th {\n",
       "        text-align: right;\n",
       "    }\n",
       "</style>\n",
       "<table border=\"1\" class=\"dataframe\">\n",
       "  <thead>\n",
       "    <tr style=\"text-align: right;\">\n",
       "      <th></th>\n",
       "      <th>Open</th>\n",
       "      <th>High</th>\n",
       "      <th>Low</th>\n",
       "      <th>Close</th>\n",
       "      <th>Volume</th>\n",
       "    </tr>\n",
       "    <tr>\n",
       "      <th>Date</th>\n",
       "      <th></th>\n",
       "      <th></th>\n",
       "      <th></th>\n",
       "      <th></th>\n",
       "      <th></th>\n",
       "    </tr>\n",
       "  </thead>\n",
       "  <tbody>\n",
       "    <tr>\n",
       "      <th>2018-12-31</th>\n",
       "      <td>156.183345</td>\n",
       "      <td>157.001061</td>\n",
       "      <td>154.163687</td>\n",
       "      <td>155.405045</td>\n",
       "      <td>35003500</td>\n",
       "    </tr>\n",
       "    <tr>\n",
       "      <th>2019-01-02</th>\n",
       "      <td>152.597220</td>\n",
       "      <td>156.498608</td>\n",
       "      <td>151.946987</td>\n",
       "      <td>155.582367</td>\n",
       "      <td>37039700</td>\n",
       "    </tr>\n",
       "    <tr>\n",
       "      <th>2019-01-03</th>\n",
       "      <td>141.848717</td>\n",
       "      <td>143.562966</td>\n",
       "      <td>139.898031</td>\n",
       "      <td>140.085220</td>\n",
       "      <td>91312200</td>\n",
       "    </tr>\n",
       "    <tr>\n",
       "      <th>2019-01-04</th>\n",
       "      <td>142.390571</td>\n",
       "      <td>146.351068</td>\n",
       "      <td>141.671381</td>\n",
       "      <td>146.065353</td>\n",
       "      <td>58607100</td>\n",
       "    </tr>\n",
       "    <tr>\n",
       "      <th>2019-01-07</th>\n",
       "      <td>146.498871</td>\n",
       "      <td>146.626952</td>\n",
       "      <td>143.740315</td>\n",
       "      <td>145.740265</td>\n",
       "      <td>54777800</td>\n",
       "    </tr>\n",
       "  </tbody>\n",
       "</table>\n",
       "</div>"
      ],
      "text/plain": [
       "                  Open        High         Low       Close    Volume\n",
       "Date                                                                \n",
       "2018-12-31  156.183345  157.001061  154.163687  155.405045  35003500\n",
       "2019-01-02  152.597220  156.498608  151.946987  155.582367  37039700\n",
       "2019-01-03  141.848717  143.562966  139.898031  140.085220  91312200\n",
       "2019-01-04  142.390571  146.351068  141.671381  146.065353  58607100\n",
       "2019-01-07  146.498871  146.626952  143.740315  145.740265  54777800"
      ]
     },
     "execution_count": 24,
     "metadata": {},
     "output_type": "execute_result"
    }
   ],
   "source": [
    "dataset_test.head()"
   ]
  },
  {
   "cell_type": "code",
   "execution_count": 25,
   "metadata": {},
   "outputs": [
    {
     "name": "stdout",
     "output_type": "stream",
     "text": [
      "<class 'pandas.core.frame.DataFrame'>\n",
      "DatetimeIndex: 22 entries, 2018-12-31 to 2019-01-31\n",
      "Data columns (total 5 columns):\n",
      "Open      22 non-null float64\n",
      "High      22 non-null float64\n",
      "Low       22 non-null float64\n",
      "Close     22 non-null float64\n",
      "Volume    22 non-null int64\n",
      "dtypes: float64(4), int64(1)\n",
      "memory usage: 1.0 KB\n"
     ]
    }
   ],
   "source": [
    "dataset_test.info()"
   ]
  },
  {
   "cell_type": "code",
   "execution_count": 26,
   "metadata": {},
   "outputs": [],
   "source": [
    "test_data = dataset_test['Open']\n",
    "test_data = pd.DataFrame(test_data)"
   ]
  },
  {
   "cell_type": "code",
   "execution_count": 27,
   "metadata": {},
   "outputs": [
    {
     "name": "stdout",
     "output_type": "stream",
     "text": [
      "<class 'pandas.core.frame.DataFrame'>\n",
      "DatetimeIndex: 22 entries, 2018-12-31 to 2019-01-31\n",
      "Data columns (total 1 columns):\n",
      "Open    22 non-null float64\n",
      "dtypes: float64(1)\n",
      "memory usage: 352.0 bytes\n"
     ]
    }
   ],
   "source": [
    "test_data.info()"
   ]
  },
  {
   "cell_type": "code",
   "execution_count": 28,
   "metadata": {},
   "outputs": [],
   "source": [
    "# Feature Scaling\n",
    "from sklearn.preprocessing import MinMaxScaler\n",
    "sc = MinMaxScaler(feature_range = (0, 1))\n",
    "test_set_scaled = sc.fit_transform(test_data)"
   ]
  },
  {
   "cell_type": "code",
   "execution_count": 29,
   "metadata": {},
   "outputs": [
    {
     "data": {
      "text/html": [
       "<div>\n",
       "<style scoped>\n",
       "    .dataframe tbody tr th:only-of-type {\n",
       "        vertical-align: middle;\n",
       "    }\n",
       "\n",
       "    .dataframe tbody tr th {\n",
       "        vertical-align: top;\n",
       "    }\n",
       "\n",
       "    .dataframe thead th {\n",
       "        text-align: right;\n",
       "    }\n",
       "</style>\n",
       "<table border=\"1\" class=\"dataframe\">\n",
       "  <thead>\n",
       "    <tr style=\"text-align: right;\">\n",
       "      <th></th>\n",
       "      <th>0</th>\n",
       "    </tr>\n",
       "  </thead>\n",
       "  <tbody>\n",
       "    <tr>\n",
       "      <th>0</th>\n",
       "      <td>0.657479</td>\n",
       "    </tr>\n",
       "    <tr>\n",
       "      <th>1</th>\n",
       "      <td>0.492996</td>\n",
       "    </tr>\n",
       "    <tr>\n",
       "      <th>2</th>\n",
       "      <td>0.000000</td>\n",
       "    </tr>\n",
       "    <tr>\n",
       "      <th>3</th>\n",
       "      <td>0.024853</td>\n",
       "    </tr>\n",
       "    <tr>\n",
       "      <th>4</th>\n",
       "      <td>0.213286</td>\n",
       "    </tr>\n",
       "  </tbody>\n",
       "</table>\n",
       "</div>"
      ],
      "text/plain": [
       "          0\n",
       "0  0.657479\n",
       "1  0.492996\n",
       "2  0.000000\n",
       "3  0.024853\n",
       "4  0.213286"
      ]
     },
     "execution_count": 29,
     "metadata": {},
     "output_type": "execute_result"
    }
   ],
   "source": [
    "test_set_scaled = pd.DataFrame(test_set_scaled)\n",
    "test_set_scaled.head()"
   ]
  },
  {
   "cell_type": "code",
   "execution_count": 30,
   "metadata": {},
   "outputs": [],
   "source": [
    "# Getting the predicted stock price of 2018\n",
    "dataset_total = pd.concat((dataset['Open'], dataset_test['Open']), axis = 0)\n",
    "inputs = dataset_total[len(dataset_total) - len(dataset_test) - past_days:].values\n",
    "inputs = inputs.reshape(-1,1)\n",
    "inputs = sc.transform(inputs)\n",
    "X_test = []\n",
    "y_test = []\n",
    "\n",
    "prediction_days = dataset_test.shape[0]\n",
    "for i in range(past_days, past_days + prediction_days):\n",
    "  X_test.append(inputs[i-past_days:i, 0])\n",
    "  y_test.append(inputs[i, 0])\n",
    "  \n",
    "X_test, y_test = np.array(X_test), np.array(y_test)\n",
    "X_test = np.reshape(X_test, (X_test.shape[0], X_test.shape[1], 1))\n",
    "\n",
    "# Cast\n",
    "X_test = X_test.astype(np.float32)\n",
    "y_test = y_test.astype(np.float32)"
   ]
  },
  {
   "cell_type": "code",
   "execution_count": 31,
   "metadata": {},
   "outputs": [],
   "source": [
    "predicted_stock_price = model.predict(X_test)\n",
    "predicted_stock_price = sc.inverse_transform(predicted_stock_price)"
   ]
  },
  {
   "cell_type": "code",
   "execution_count": 32,
   "metadata": {},
   "outputs": [
    {
     "data": {
      "image/png": "[encoded data removed]",
      "text/plain": [
       "<Figure size 432x288 with 1 Axes>"
      ]
     },
     "metadata": {
      "needs_background": "light"
     },
     "output_type": "display_data"
    }
   ],
   "source": [
    "# Visualising the results\n",
    "real_stock_price = dataset_test.Open.values\n",
    "plt.plot(real_stock_price, color='red', label='Real Stock Price')\n",
    "plt.plot(predicted_stock_price, color='blue', label='Predicted Stock Price')\n",
    "plt.title('Stock Price Prediction')\n",
    "plt.xlabel('Time')\n",
    "plt.ylabel('Stock Price')\n",
    "plt.legend()\n",
    "plt.show()"
   ]
  }
 ],
 "metadata": {
  "kernelspec": {
   "display_name": "Python 3",
   "language": "python",
   "name": "python3"
  },
  "language_info": {
   "codemirror_mode": {
    "name": "ipython",
    "version": 3
   },
   "file_extension": ".py",
   "mimetype": "text/x-python",
   "name": "python",
   "nbconvert_exporter": "python",
   "pygments_lexer": "ipython3",
   "version": "3.6.8"
  },
  "latex_envs": {
   "LaTeX_envs_menu_present": true,
   "autoclose": false,
   "autocomplete": true,
   "bibliofile": "biblio.bib",
   "cite_by": "apalike",
   "current_citInitial": 1,
   "eqLabelWithNumbers": true,
   "eqNumInitial": 1,
   "hotkeys": {
    "equation": "Ctrl-E",
    "itemize": "Ctrl-I"
   },
   "labels_anchors": false,
   "latex_user_defs": false,
   "report_style_numbering": false,
   "user_envs_cfg": false
  },
  "toc": {
   "base_numbering": 1,
   "nav_menu": {},
   "number_sections": true,
   "sideBar": true,
   "skip_h1_title": false,
   "title_cell": "Table of Contents",
   "title_sidebar": "Contents",
   "toc_cell": false,
   "toc_position": {},
   "toc_section_display": true,
   "toc_window_display": false
  },
  "varInspector": {
   "cols": {
    "lenName": 16,
    "lenType": 16,
    "lenVar": 40
   },
   "kernels_config": {
    "python": {
     "delete_cmd_postfix": "",
     "delete_cmd_prefix": "del ",
     "library": "var_list.py",
     "varRefreshCmd": "print(var_dic_list())"
    },
    "r": {
     "delete_cmd_postfix": ") ",
     "delete_cmd_prefix": "rm(",
     "library": "var_list.r",
     "varRefreshCmd": "cat(var_dic_list()) "
    }
   },
   "types_to_exclude": [
    "module",
    "function",
    "builtin_function_or_method",
    "instance",
    "_Feature"
   ],
   "window_display": false
  }
 },
 "nbformat": 4,
 "nbformat_minor": 2
}
