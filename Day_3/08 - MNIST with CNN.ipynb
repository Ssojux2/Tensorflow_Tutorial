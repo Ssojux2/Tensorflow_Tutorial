{
 "cells": [
  {
   "cell_type": "code",
   "execution_count": null,
   "metadata": {
    "colab": {
     "base_uri": "https://localhost:8080/",
     "height": 35
    },
    "colab_type": "code",
    "executionInfo": {
     "elapsed": 1784,
     "status": "ok",
     "timestamp": 1561765587656,
     "user": {
      "displayName": "junseop so",
      "photoUrl": "",
      "userId": "03070847090635331575"
     },
     "user_tz": -540
    },
    "id": "9JutkdoS4X-A",
    "outputId": "3344e307-6c4f-42d7-9deb-c898b162cb73"
   },
   "outputs": [],
   "source": [
    "import tensorflow as tf\n",
    "from tensorflow.keras import layers\n",
    "import numpy as np\n",
    "import matplotlib.pyplot as plt\n",
    "from IPython.display import clear_output\n",
    "\n",
    "import os\n",
    "import time\n",
    "\n",
    "tf.__version__"
   ]
  },
  {
   "cell_type": "markdown",
   "metadata": {},
   "source": [
    "#  Data preprocessing"
   ]
  },
  {
   "cell_type": "code",
   "execution_count": null,
   "metadata": {
    "colab": {
     "base_uri": "https://localhost:8080/",
     "height": 53
    },
    "colab_type": "code",
    "executionInfo": {
     "elapsed": 2676,
     "status": "ok",
     "timestamp": 1561765588557,
     "user": {
      "displayName": "junseop so",
      "photoUrl": "",
      "userId": "03070847090635331575"
     },
     "user_tz": -540
    },
    "id": "NFPVJSy4d-Zd",
    "outputId": "c9675fc2-abf3-4ea1-ca5d-989fb7727223"
   },
   "outputs": [],
   "source": [
    "# Load training and eval data from tf.keras\n",
    "(train_data, train_labels), (test_data, test_labels) = \\\n",
    "    tf.keras.datasets.mnist.load_data()\n",
    "\n",
    "train_data = train_data / 255.\n",
    "train_data = train_data.reshape([-1, 28, 28, 1])\n",
    "train_data = train_data.astype(np.float32)\n",
    "train_labels = train_labels.astype(np.int32)\n",
    "\n",
    "test_data = test_data / 255.\n",
    "test_data = test_data.reshape([-1, 28, 28, 1])\n",
    "test_data = test_data.astype(np.float32)\n",
    "test_labels = test_labels.astype(np.int32)"
   ]
  },
  {
   "cell_type": "code",
   "execution_count": null,
   "metadata": {
    "colab": {
     "base_uri": "https://localhost:8080/",
     "height": 287
    },
    "colab_type": "code",
    "executionInfo": {
     "elapsed": 2667,
     "status": "ok",
     "timestamp": 1561765588558,
     "user": {
      "displayName": "junseop so",
      "photoUrl": "",
      "userId": "03070847090635331575"
     },
     "user_tz": -540
    },
    "id": "7fBM2oeIeA8p",
    "outputId": "78907013-539a-478e-f53c-981ee02b0d53"
   },
   "outputs": [],
   "source": [
    "index = 219\n",
    "print(\"label = {}\".format(train_labels[index]))\n",
    "plt.imshow(train_data[index][...,0])\n",
    "plt.colorbar()\n",
    "#plt.gca().grid(False)\n",
    "plt.show()"
   ]
  },
  {
   "cell_type": "code",
   "execution_count": null,
   "metadata": {
    "colab": {},
    "colab_type": "code",
    "id": "sAGpM23feBsa"
   },
   "outputs": [],
   "source": [
    "def one_hot_label(image, label):\n",
    "  label = tf.one_hot(label, depth=10)\n",
    "  return image, label"
   ]
  },
  {
   "cell_type": "markdown",
   "metadata": {},
   "source": [
    "# Make a dataset"
   ]
  },
  {
   "cell_type": "code",
   "execution_count": null,
   "metadata": {
    "colab": {
     "base_uri": "https://localhost:8080/",
     "height": 145
    },
    "colab_type": "code",
    "executionInfo": {
     "elapsed": 5506,
     "status": "ok",
     "timestamp": 1561765591415,
     "user": {
      "displayName": "junseop so",
      "photoUrl": "",
      "userId": "03070847090635331575"
     },
     "user_tz": -540
    },
    "id": "qs9SsNyReCZ6",
    "outputId": "b6fa6182-358c-4e4f-8f41-d7972f6f0912"
   },
   "outputs": [],
   "source": [
    "batch_size = 32\n",
    "max_epochs = 1\n",
    "\n",
    "# for train\n",
    "N = len(train_data)\n",
    "train_dataset = tf.data.Dataset.from_tensor_slices((train_data, train_labels))\n",
    "train_dataset = train_dataset.shuffle(buffer_size=10000)\n",
    "train_dataset = train_dataset.map(one_hot_label)\n",
    "train_dataset = train_dataset.batch(batch_size=batch_size)\n",
    "print(train_dataset)\n",
    "\n",
    "# for test\n",
    "test_dataset = tf.data.Dataset.from_tensor_slices((test_data, test_labels))\n",
    "test_dataset = test_dataset.map(one_hot_label)\n",
    "test_dataset = test_dataset.batch(batch_size=batch_size)\n",
    "print(test_dataset)"
   ]
  },
  {
   "cell_type": "markdown",
   "metadata": {},
   "source": [
    "# Make a model"
   ]
  },
  {
   "cell_type": "code",
   "execution_count": null,
   "metadata": {
    "colab": {},
    "colab_type": "code",
    "id": "-XuEtyUoeDTy"
   },
   "outputs": [],
   "source": [
    "model = tf.keras.Sequential()"
   ]
  },
  {
   "cell_type": "code",
   "execution_count": null,
   "metadata": {
    "colab": {},
    "colab_type": "code",
    "id": "tU9Vi03MeEia"
   },
   "outputs": [],
   "source": [
    "model.add(layers.Conv2D(filters=32, kernel_size=[5, 5], padding='same', activation='relu'))\n",
    "model.add(layers.MaxPool2D())\n",
    "model.add(layers.Conv2D(filters=64, kernel_size=[5, 5], padding='same', activation='relu'))\n",
    "model.add(layers.MaxPool2D())\n",
    "model.add(layers.Flatten())\n",
    "model.add(layers.Dense(1024, activation='relu'))\n",
    "model.add(layers.Dense(10, activation='softmax'))"
   ]
  },
  {
   "cell_type": "code",
   "execution_count": null,
   "metadata": {
    "colab": {
     "base_uri": "https://localhost:8080/",
     "height": 53
    },
    "colab_type": "code",
    "executionInfo": {
     "elapsed": 9095,
     "status": "ok",
     "timestamp": 1561765595037,
     "user": {
      "displayName": "junseop so",
      "photoUrl": "",
      "userId": "03070847090635331575"
     },
     "user_tz": -540
    },
    "id": "dl4BZnH1eFKZ",
    "outputId": "59a7c231-15b2-455e-dce6-14d99e178e51"
   },
   "outputs": [],
   "source": [
    "# without training, just inference a model in eager execution:\n",
    "for images, labels in train_dataset.take(1):\n",
    "  predictions = model(images[0:1], training=False)\n",
    "  print(\"Predictions: \", predictions.numpy())"
   ]
  },
  {
   "cell_type": "code",
   "execution_count": null,
   "metadata": {
    "colab": {
     "base_uri": "https://localhost:8080/",
     "height": 413
    },
    "colab_type": "code",
    "executionInfo": {
     "elapsed": 9087,
     "status": "ok",
     "timestamp": 1561765595038,
     "user": {
      "displayName": "junseop so",
      "photoUrl": "",
      "userId": "03070847090635331575"
     },
     "user_tz": -540
    },
    "id": "DXTUYnEWeF3a",
    "outputId": "7d158be1-a1dd-478f-d5ab-fb578d93bb56"
   },
   "outputs": [],
   "source": [
    "model.summary()"
   ]
  },
  {
   "cell_type": "markdown",
   "metadata": {},
   "source": [
    "# Training"
   ]
  },
  {
   "cell_type": "code",
   "execution_count": null,
   "metadata": {
    "colab": {},
    "colab_type": "code",
    "id": "HSPdShmheGsL"
   },
   "outputs": [],
   "source": [
    "loss_object = tf.keras.losses.CategoricalCrossentropy()\n",
    "acc_object = tf.keras.metrics.CategoricalAccuracy()"
   ]
  },
  {
   "cell_type": "code",
   "execution_count": null,
   "metadata": {
    "colab": {},
    "colab_type": "code",
    "id": "1kxQl8lheHdK"
   },
   "outputs": [],
   "source": [
    "# use Adam optimizer \n",
    "optimizer = tf.keras.optimizers.Adam(1e-4)\n",
    "\n",
    "# record loss and accuracy for every epoch\n",
    "mean_loss = tf.keras.metrics.Mean(\"loss\")\n",
    "mean_accuracy = tf.keras.metrics.Mean(\"accuracy\")\n",
    "\n",
    "# save loss and accuracy history for plot\n",
    "loss_history = []\n",
    "accuracy_history = [(0, 0.0)]"
   ]
  },
  {
   "cell_type": "code",
   "execution_count": null,
   "metadata": {
    "colab": {
     "base_uri": "https://localhost:8080/",
     "height": 53
    },
    "colab_type": "code",
    "executionInfo": {
     "elapsed": 305,
     "status": "ok",
     "timestamp": 1561765631603,
     "user": {
      "displayName": "junseop so",
      "photoUrl": "",
      "userId": "03070847090635331575"
     },
     "user_tz": -540
    },
    "id": "Y84eSuHLeICq",
    "outputId": "b6392993-a8fb-4657-9bb7-7db53294c564"
   },
   "outputs": [],
   "source": [
    "print(\"start training!\")\n",
    "global_step = tf.Variable(0, trainable=False)\n",
    "num_batches_per_epoch = int(N / batch_size)\n",
    "\n",
    "for epoch in range(max_epochs):\n",
    "  \n",
    "  for step, (images, labels) in enumerate(train_dataset):\n",
    "    start_time = time.time()\n",
    "    \n",
    "    with tf.GradientTape() as tape:\n",
    "      predictions = model(images, training=True)\n",
    "      loss_value = loss_object(labels, predictions)\n",
    "      acc_value = acc_object(labels, predictions)\n",
    "\n",
    "    grads = tape.gradient(loss_value, model.trainable_variables)\n",
    "    optimizer.apply_gradients(zip(grads, model.trainable_variables))\n",
    "    global_step.assign_add(1)\n",
    "    \n",
    "    mean_loss(loss_value)\n",
    "    mean_accuracy(acc_value)\n",
    "    loss_history.append((global_step.numpy(), mean_loss.result().numpy()))\n",
    "\n",
    "    if global_step.numpy() % 10 == 0:\n",
    "      clear_output(wait=True)\n",
    "      epochs = epoch + step / float(num_batches_per_epoch)\n",
    "      duration = time.time() - start_time\n",
    "      examples_per_sec = batch_size / float(duration) \n",
    "      print(\"epochs: {:.2f}, step: {}, loss: {:.3g}, accuracy: {:.4g}% ({:.2f} examples/sec; {:.4f} sec/batch)\".format(\n",
    "          epochs, global_step.numpy(), loss_value.numpy(), acc_value.numpy()*100, examples_per_sec, duration))\n",
    "      \n",
    "  # save mean accuracy for plot\n",
    "  accuracy_history.append((global_step.numpy(), mean_accuracy.result().numpy()))\n",
    "\n",
    "  # clear the history\n",
    "  mean_accuracy.reset_states()\n",
    "\n",
    "print(\"training done!\")"
   ]
  },
  {
   "cell_type": "markdown",
   "metadata": {},
   "source": [
    "# History"
   ]
  },
  {
   "cell_type": "code",
   "execution_count": null,
   "metadata": {
    "colab": {
     "base_uri": "https://localhost:8080/",
     "height": 283
    },
    "colab_type": "code",
    "executionInfo": {
     "elapsed": 45617,
     "status": "ok",
     "timestamp": 1561765631604,
     "user": {
      "displayName": "junseop so",
      "photoUrl": "",
      "userId": "03070847090635331575"
     },
     "user_tz": -540
    },
    "id": "83lTe22aeI8a",
    "outputId": "4a7fae4d-2270-4863-e18c-35b106d45a3f"
   },
   "outputs": [],
   "source": [
    "plt.plot(*zip(*loss_history), label='loss')\n",
    "plt.xlabel('Number of steps')\n",
    "plt.ylabel('Loss value [cross entropy]')\n",
    "plt.legend()\n",
    "plt.show()"
   ]
  },
  {
   "cell_type": "code",
   "execution_count": null,
   "metadata": {
    "colab": {
     "base_uri": "https://localhost:8080/",
     "height": 283
    },
    "colab_type": "code",
    "executionInfo": {
     "elapsed": 548,
     "status": "ok",
     "timestamp": 1561765678939,
     "user": {
      "displayName": "junseop so",
      "photoUrl": "",
      "userId": "03070847090635331575"
     },
     "user_tz": -540
    },
    "id": "63q4eE7PeOUy",
    "outputId": "eebc332f-09f4-4b7f-de7b-72f65cd102b6"
   },
   "outputs": [],
   "source": [
    "plt.plot(*zip(*accuracy_history), label='accuracy')\n",
    "plt.xlabel('Number of steps')\n",
    "plt.ylabel('Accuracy value')\n",
    "plt.legend()\n",
    "plt.show()"
   ]
  },
  {
   "cell_type": "code",
   "execution_count": null,
   "metadata": {
    "colab": {
     "base_uri": "https://localhost:8080/",
     "height": 301
    },
    "colab_type": "code",
    "executionInfo": {
     "elapsed": 28632,
     "status": "ok",
     "timestamp": 1561765633035,
     "user": {
      "displayName": "junseop so",
      "photoUrl": "",
      "userId": "03070847090635331575"
     },
     "user_tz": -540
    },
    "id": "erVJuO4He8yv",
    "outputId": "dd429eca-5c2d-47c2-a72f-e7f1161da6de"
   },
   "outputs": [],
   "source": [
    "np.random.seed(219)\n",
    "test_batch_size = 16\n",
    "batch_index = np.random.choice(len(test_data), size=test_batch_size, replace=False)\n",
    "\n",
    "batch_xs = test_data[batch_index]\n",
    "batch_ys = test_labels[batch_index]\n",
    "y_pred_ = model(batch_xs, training=False)\n",
    "\n",
    "fig = plt.figure(figsize=(16, 10))\n",
    "for i, (px, py) in enumerate(zip(batch_xs, y_pred_)):\n",
    "  p = fig.add_subplot(4, 8, i+1)\n",
    "  if np.argmax(py) == batch_ys[i]:\n",
    "    p.set_title(\"y_pred: {}\".format(np.argmax(py)), color='blue')\n",
    "  else:\n",
    "    p.set_title(\"y_pred: {}\".format(np.argmax(py)), color='red')\n",
    "  p.imshow(px.reshape(28, 28))\n",
    "  p.axis('off')"
   ]
  },
  {
   "cell_type": "code",
   "execution_count": null,
   "metadata": {
    "colab": {},
    "colab_type": "code",
    "id": "_AsBOvkRe-vy"
   },
   "outputs": [],
   "source": []
  }
 ],
 "metadata": {
  "accelerator": "GPU",
  "colab": {
   "collapsed_sections": [],
   "name": "8 - MNIST with CNN.ipynb",
   "provenance": [],
   "version": "0.3.2"
  },
  "kernelspec": {
   "display_name": "Python 3",
   "language": "python",
   "name": "python3"
  },
  "language_info": {
   "codemirror_mode": {
    "name": "ipython",
    "version": 3
   },
   "file_extension": ".py",
   "mimetype": "text/x-python",
   "name": "python",
   "nbconvert_exporter": "python",
   "pygments_lexer": "ipython3",
   "version": "3.6.8"
  }
 },
 "nbformat": 4,
 "nbformat_minor": 1
}
