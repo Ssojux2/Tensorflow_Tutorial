{
 "cells": [
  {
   "cell_type": "code",
   "execution_count": null,
   "metadata": {
    "colab": {
     "base_uri": "https://localhost:8080/",
     "height": 35
    },
    "colab_type": "code",
    "executionInfo": {
     "elapsed": 2140,
     "status": "ok",
     "timestamp": 1561775664345,
     "user": {
      "displayName": "junseop so",
      "photoUrl": "",
      "userId": "03070847090635331575"
     },
     "user_tz": -540
    },
    "id": "PWdSqTzMDkQO",
    "outputId": "e379f957-333a-4ed5-8504-96e835937e06"
   },
   "outputs": [],
   "source": [
    "import tensorflow as tf\n",
    "from tensorflow.keras import layers\n",
    "from tensorflow.keras.preprocessing.image import ImageDataGenerator\n",
    "from tensorflow.keras.callbacks import ReduceLROnPlateau\n",
    "\n",
    "import numpy as np\n",
    "import matplotlib.pyplot as plt\n",
    "from IPython.display import clear_output\n",
    "\n",
    "import os\n",
    "import sys\n",
    "import time\n",
    "import shutil\n",
    "\n",
    "tf.enable_eager_execution()\n",
    "tf.__version__"
   ]
  },
  {
   "cell_type": "markdown",
   "metadata": {
    "colab_type": "text",
    "id": "NjvDSUPfD3tA"
   },
   "source": [
    "## Usage `VGG16`\n",
    "* [code link](https://github.com/keras-team/keras-applications/blob/master/keras_applications/vgg16.py)\n",
    "* [document link](https://keras.io/applications/#vgg16)\n",
    "\n",
    "```python\n",
    "def VGG16(include_top=True,\n",
    "          weights='imagenet',\n",
    "          input_tensor=None,\n",
    "          input_shape=None,\n",
    "          pooling=None,\n",
    "          classes=1000,\n",
    "          **kwargs):\n",
    "    \"\"\"Instantiates the VGG16 architecture.\n",
    "    Optionally loads weights pre-trained on ImageNet.\n",
    "    Note that the data format convention used by the model is\n",
    "    the one specified in your Keras config at `~/.keras/keras.json`.\n",
    "    # Arguments\n",
    "        include_top: whether to include the 3 fully-connected\n",
    "            layers at the top of the network.\n",
    "        weights: one of `None` (random initialization),\n",
    "              'imagenet' (pre-training on ImageNet),\n",
    "              or the path to the weights file to be loaded.\n",
    "        input_tensor: optional Keras tensor\n",
    "            (i.e. output of `layers.Input()`)\n",
    "            to use as image input for the model.\n",
    "        input_shape: optional shape tuple, only to be specified\n",
    "            if `include_top` is False (otherwise the input shape\n",
    "            has to be `(224, 224, 3)`\n",
    "            (with `channels_last` data format)\n",
    "            or `(3, 224, 224)` (with `channels_first` data format).\n",
    "            It should have exactly 3 input channels,\n",
    "            and width and height should be no smaller than 32.\n",
    "            E.g. `(200, 200, 3)` would be one valid value.\n",
    "        pooling: Optional pooling mode for feature extraction\n",
    "            when `include_top` is `False`.\n",
    "            - `None` means that the output of the model will be\n",
    "                the 4D tensor output of the\n",
    "                last convolutional block.\n",
    "            - `avg` means that global average pooling\n",
    "                will be applied to the output of the\n",
    "                last convolutional block, and thus\n",
    "                the output of the model will be a 2D tensor.\n",
    "            - `max` means that global max pooling will\n",
    "                be applied.\n",
    "        classes: optional number of classes to classify images\n",
    "            into, only to be specified if `include_top` is True, and\n",
    "            if no `weights` argument is specified.\n",
    "    # Returns\n",
    "        A Keras model instance.\n",
    "    # Raises\n",
    "        ValueError: in case of invalid argument for `weights`,\n",
    "            or invalid input shape.\n",
    "    \"\"\"\n",
    "```"
   ]
  },
  {
   "cell_type": "code",
   "execution_count": null,
   "metadata": {
    "colab": {
     "base_uri": "https://localhost:8080/",
     "height": 53
    },
    "colab_type": "code",
    "executionInfo": {
     "elapsed": 5815,
     "status": "ok",
     "timestamp": 1561775668038,
     "user": {
      "displayName": "junseop so",
      "photoUrl": "",
      "userId": "03070847090635331575"
     },
     "user_tz": -540
    },
    "id": "D3QeZw8mDv7_",
    "outputId": "c682fb78-5024-4c8c-e11f-6e3797eed26a"
   },
   "outputs": [],
   "source": [
    "conv_base = tf.keras.applications.VGG16(weights='imagenet',\n",
    "                                        include_top=False,\n",
    "                                        input_shape=(150, 150, 3))"
   ]
  },
  {
   "cell_type": "code",
   "execution_count": null,
   "metadata": {
    "colab": {
     "base_uri": "https://localhost:8080/",
     "height": 845
    },
    "colab_type": "code",
    "executionInfo": {
     "elapsed": 5799,
     "status": "ok",
     "timestamp": 1561775668039,
     "user": {
      "displayName": "junseop so",
      "photoUrl": "",
      "userId": "03070847090635331575"
     },
     "user_tz": -540
    },
    "id": "QWiiIV9SD8On",
    "outputId": "51b02899-16fc-4e44-9777-f02fc1963690"
   },
   "outputs": [],
   "source": [
    "conv_base.summary()"
   ]
  },
  {
   "cell_type": "code",
   "execution_count": null,
   "metadata": {
    "colab": {
     "base_uri": "https://localhost:8080/",
     "height": 305
    },
    "colab_type": "code",
    "executionInfo": {
     "elapsed": 5784,
     "status": "ok",
     "timestamp": 1561775668040,
     "user": {
      "displayName": "junseop so",
      "photoUrl": "",
      "userId": "03070847090635331575"
     },
     "user_tz": -540
    },
    "id": "5g3_4JwWD9Iv",
    "outputId": "bf094379-5c60-4171-d20f-be1017346c80"
   },
   "outputs": [],
   "source": [
    "model = tf.keras.Sequential()\n",
    "model.add(conv_base)\n",
    "model.add(layers.Flatten())\n",
    "model.add(layers.Dense(256, activation='relu'))\n",
    "model.add(layers.Dense(5, activation='softmax'))\n",
    "\n",
    "model.summary()"
   ]
  },
  {
   "cell_type": "code",
   "execution_count": null,
   "metadata": {
    "colab": {},
    "colab_type": "code",
    "id": "dquMgm_PEATI"
   },
   "outputs": [],
   "source": [
    "# assign conv1_1 and dense1 weight to compare itself after training some steps\n",
    "for var in model.variables:\n",
    "  #print(var.name)\n",
    "  if var.name == 'block1_conv1/kernel:0':\n",
    "    conv1_1_w = var\n",
    "  if var.name == 'dense/kernel:0':\n",
    "    dense_w = var"
   ]
  },
  {
   "cell_type": "code",
   "execution_count": null,
   "metadata": {
    "colab": {
     "base_uri": "https://localhost:8080/",
     "height": 1000
    },
    "colab_type": "code",
    "executionInfo": {
     "elapsed": 6042,
     "status": "ok",
     "timestamp": 1561775668321,
     "user": {
      "displayName": "junseop so",
      "photoUrl": "",
      "userId": "03070847090635331575"
     },
     "user_tz": -540
    },
    "id": "qvf6gXypEOvH",
    "outputId": "ecf4562b-dbb0-47a7-e25c-42db3cb0d55f"
   },
   "outputs": [],
   "source": [
    "print(conv1_1_w)\n",
    "print(dense_w)"
   ]
  },
  {
   "cell_type": "code",
   "execution_count": null,
   "metadata": {
    "colab": {
     "base_uri": "https://localhost:8080/",
     "height": 89
    },
    "colab_type": "code",
    "executionInfo": {
     "elapsed": 6025,
     "status": "ok",
     "timestamp": 1561775668323,
     "user": {
      "displayName": "junseop so",
      "photoUrl": "",
      "userId": "03070847090635331575"
     },
     "user_tz": -540
    },
    "id": "kDGUyR8GERZ4",
    "outputId": "ec5ab910-cedd-4ae0-d2e0-0d498cf1bc98"
   },
   "outputs": [],
   "source": [
    "# Freeze vgg16 conv base part (means that trainable option is False)\n",
    "for layer in model.layers:\n",
    "  if layer.name == 'vgg16':\n",
    "    layer.trainable = False\n",
    "  print(\"variable name: {}, trainable: {}\".format(layer.name, layer.trainable))"
   ]
  },
  {
   "cell_type": "code",
   "execution_count": null,
   "metadata": {
    "colab": {
     "base_uri": "https://localhost:8080/",
     "height": 53
    },
    "colab_type": "code",
    "executionInfo": {
     "elapsed": 14229,
     "status": "ok",
     "timestamp": 1561775676543,
     "user": {
      "displayName": "junseop so",
      "photoUrl": "",
      "userId": "03070847090635331575"
     },
     "user_tz": -540
    },
    "id": "kABCMSjeEUXX",
    "outputId": "e9832acd-b47d-4855-f196-a28b6d91c225"
   },
   "outputs": [],
   "source": [
    "# I upload zip file on my dropbox\n",
    "# if you want to download from my dropbox uncomment below  \n",
    "DATASET_PATH='./flower'\n",
    "  \n",
    "if not os.path.isdir(DATASET_PATH):\n",
    "  os.makedirs(DATASET_PATH)\n",
    "  \n",
    "  import urllib.request\n",
    "  u = urllib.request.urlopen(url='https://www.dropbox.com/s/1tqczockfgdnz8z/flower.zip?dl=1')\n",
    "  data = u.read()\n",
    "  u.close()\n",
    " \n",
    "  with open('flower.zip', \"wb\") as f :\n",
    "    f.write(data)\n",
    "  print('Data has been downloaded')\n",
    "  \n",
    "  shutil.move(os.path.join('flower.zip'), os.path.join(DATASET_PATH))\n",
    "  file_path = os.path.join(DATASET_PATH, 'flower.zip')\n",
    "  \n",
    "  import zipfile\n",
    "  zip_ref = zipfile.ZipFile(file_path, 'r')\n",
    "  zip_ref.extractall(DATASET_PATH)\n",
    "  zip_ref.close()\n",
    "  print('Data has been extracted.')\n",
    "  \n",
    "else:\n",
    "  print('Data has already been downloaded and extracted.')"
   ]
  },
  {
   "cell_type": "code",
   "execution_count": null,
   "metadata": {
    "colab": {
     "base_uri": "https://localhost:8080/",
     "height": 71
    },
    "colab_type": "code",
    "executionInfo": {
     "elapsed": 14218,
     "status": "ok",
     "timestamp": 1561775676544,
     "user": {
      "displayName": "junseop so",
      "photoUrl": "",
      "userId": "03070847090635331575"
     },
     "user_tz": -540
    },
    "id": "8lufllvPEWv3",
    "outputId": "8242abd1-1e3e-4b24-b520-663954c09248"
   },
   "outputs": [],
   "source": [
    "base_dir = os.path.join(DATASET_PATH, 'flower')\n",
    "\n",
    "train_dir = os.path.join(base_dir, 'train')\n",
    "validation_dir = os.path.join(base_dir, 'validation')\n",
    "test_dir = os.path.join(base_dir, 'test')\n",
    "\n",
    "print(train_dir)\n",
    "print(validation_dir)\n",
    "print(test_dir)"
   ]
  },
  {
   "cell_type": "code",
   "execution_count": null,
   "metadata": {
    "colab": {
     "base_uri": "https://localhost:8080/",
     "height": 107
    },
    "colab_type": "code",
    "executionInfo": {
     "elapsed": 15078,
     "status": "ok",
     "timestamp": 1561775677418,
     "user": {
      "displayName": "junseop so",
      "photoUrl": "",
      "userId": "03070847090635331575"
     },
     "user_tz": -540
    },
    "id": "-dlJVVvgEXnS",
    "outputId": "e78e9d19-56c4-440a-b6e3-7e270f8da50a"
   },
   "outputs": [],
   "source": [
    "class_name = sorted(os.listdir(train_dir))\n",
    "for name in class_name:\n",
    "  print(name)"
   ]
  },
  {
   "cell_type": "code",
   "execution_count": null,
   "metadata": {
    "colab": {
     "base_uri": "https://localhost:8080/",
     "height": 179
    },
    "colab_type": "code",
    "executionInfo": {
     "elapsed": 15064,
     "status": "ok",
     "timestamp": 1561775677420,
     "user": {
      "displayName": "junseop so",
      "photoUrl": "",
      "userId": "03070847090635331575"
     },
     "user_tz": -540
    },
    "id": "ubu5F7T4EZSA",
    "outputId": "fd080dd3-d8fb-4a34-ce86-5307faf90332"
   },
   "outputs": [],
   "source": [
    "num_train = 0\n",
    "num_val = 0\n",
    "num_test = 0\n",
    "for name in class_name:\n",
    "  train_path = os.path.join(train_dir, name)\n",
    "  val_path = os.path.join(validation_dir, name)\n",
    "  test_path = os.path.join(test_dir, name)\n",
    "  print(\"Number of {} class: for train: {} / for validation: {} / for test: {}\".format(name,\n",
    "                                                                len(os.listdir(train_path)),\n",
    "                                                                len(os.listdir(val_path)),\n",
    "                                                                len(os.listdir(train_path))))\n",
    "  num_train += len(os.listdir(train_path))\n",
    "  num_val += len(os.listdir(val_path))\n",
    "  num_test += len(os.listdir(test_path))\n",
    "\n",
    "print('--------')\n",
    "print(\"Total training images:\", num_train)\n",
    "print(\"Total validation images:\", num_val)\n",
    "print(\"Total test images:\", num_test)"
   ]
  },
  {
   "cell_type": "code",
   "execution_count": null,
   "metadata": {
    "colab": {},
    "colab_type": "code",
    "id": "a8RFp7FQFDmt"
   },
   "outputs": [],
   "source": [
    "batch_size = 16"
   ]
  },
  {
   "cell_type": "code",
   "execution_count": null,
   "metadata": {
    "colab": {},
    "colab_type": "code",
    "id": "YPTsqXuwFFgY"
   },
   "outputs": [],
   "source": [
    "train_datagen = ImageDataGenerator(rescale=1./255,\n",
    "                                   rotation_range=40,\n",
    "                                   width_shift_range=0.2,\n",
    "                                   height_shift_range=0.2,\n",
    "                                   shear_range=0.2,\n",
    "                                   zoom_range=0.2,\n",
    "                                   horizontal_flip=True,\n",
    "                                   fill_mode='nearest')\n",
    "val_datagen = ImageDataGenerator(rescale=1./255)\n",
    "test_datagen = ImageDataGenerator(rescale=1./255)"
   ]
  },
  {
   "cell_type": "code",
   "execution_count": null,
   "metadata": {
    "colab": {
     "base_uri": "https://localhost:8080/",
     "height": 35
    },
    "colab_type": "code",
    "executionInfo": {
     "elapsed": 15269,
     "status": "ok",
     "timestamp": 1561775677656,
     "user": {
      "displayName": "junseop so",
      "photoUrl": "",
      "userId": "03070847090635331575"
     },
     "user_tz": -540
    },
    "id": "o6c2MJzaFGTf",
    "outputId": "6c35023d-2eaf-40d9-9289-3edbcd074728"
   },
   "outputs": [],
   "source": [
    "train_generator = train_datagen.flow_from_directory(train_dir,\n",
    "                                                    target_size=(150, 150),\n",
    "                                                    batch_size=batch_size,\n",
    "                                                    class_mode='categorical')"
   ]
  },
  {
   "cell_type": "code",
   "execution_count": null,
   "metadata": {
    "colab": {
     "base_uri": "https://localhost:8080/",
     "height": 35
    },
    "colab_type": "code",
    "executionInfo": {
     "elapsed": 15258,
     "status": "ok",
     "timestamp": 1561775677657,
     "user": {
      "displayName": "junseop so",
      "photoUrl": "",
      "userId": "03070847090635331575"
     },
     "user_tz": -540
    },
    "id": "GumrxFH_FHKH",
    "outputId": "46d0b1ff-2108-44aa-f5cb-d80308ac6ab3"
   },
   "outputs": [],
   "source": [
    "val_generator = val_datagen.flow_from_directory(validation_dir,\n",
    "                                                target_size=(150, 150),\n",
    "                                                batch_size=batch_size,\n",
    "                                                class_mode='categorical')"
   ]
  },
  {
   "cell_type": "code",
   "execution_count": null,
   "metadata": {
    "colab": {
     "base_uri": "https://localhost:8080/",
     "height": 35
    },
    "colab_type": "code",
    "executionInfo": {
     "elapsed": 15480,
     "status": "ok",
     "timestamp": 1561775677891,
     "user": {
      "displayName": "junseop so",
      "photoUrl": "",
      "userId": "03070847090635331575"
     },
     "user_tz": -540
    },
    "id": "AbWIneZ_FH_P",
    "outputId": "eaca4a30-d037-43ed-9ee7-bd88e4c6da89"
   },
   "outputs": [],
   "source": [
    "test_generator = test_datagen.flow_from_directory(test_dir,\n",
    "                                                  target_size=(150, 150),\n",
    "                                                  batch_size=batch_size,\n",
    "                                                  class_mode='categorical')"
   ]
  },
  {
   "cell_type": "code",
   "execution_count": null,
   "metadata": {
    "colab": {},
    "colab_type": "code",
    "id": "wOmQCXzuFIsn"
   },
   "outputs": [],
   "source": [
    "model.compile(optimizer='adam',\n",
    "              loss='categorical_crossentropy',\n",
    "              metrics=['accuracy'])"
   ]
  },
  {
   "cell_type": "code",
   "execution_count": null,
   "metadata": {},
   "outputs": [],
   "source": [
    "reduce_lr = ReduceLROnPlateau(monitor='val_loss', factor=0.2,\n",
    "                              patience=5, min_lr=0.001)\n",
    "early_stopping = tf.keras.callbacks.EarlyStopping(monitor='val_acc', patience=3)"
   ]
  },
  {
   "cell_type": "code",
   "execution_count": null,
   "metadata": {
    "colab": {
     "base_uri": "https://localhost:8080/",
     "height": 469
    },
    "colab_type": "code",
    "executionInfo": {
     "elapsed": 320710,
     "status": "ok",
     "timestamp": 1561775983137,
     "user": {
      "displayName": "junseop so",
      "photoUrl": "",
      "userId": "03070847090635331575"
     },
     "user_tz": -540
    },
    "id": "OWMOZCFLFJnY",
    "outputId": "9194e319-9559-4c82-d47e-f03a39d7c6f0"
   },
   "outputs": [],
   "source": [
    "history = model.fit_generator(\n",
    "    train_generator,\n",
    "    steps_per_epoch=int(np.ceil(num_train / float(batch_size))),\n",
    "    epochs=epoch,\n",
    "    validation_data=val_generator,\n",
    "    validation_steps=int(np.ceil(num_val / float(batch_size))),\n",
    "    callbacks=[reduce_lr, early_stopping]\n",
    ")"
   ]
  },
  {
   "cell_type": "code",
   "execution_count": null,
   "metadata": {},
   "outputs": [],
   "source": [
    "print(history.history.keys())"
   ]
  },
  {
   "cell_type": "code",
   "execution_count": null,
   "metadata": {
    "colab": {},
    "colab_type": "code",
    "id": "3ElNnurGFKP7"
   },
   "outputs": [],
   "source": [
    "# Compare weights between before and after training some steps\n",
    "for var in model.variables:\n",
    "  #print(var.name)\n",
    "  if var.name == 'block1_conv1/kernel:0':\n",
    "    conv1_1_w_1 = var\n",
    "  if var.name == 'dense/kernel:0':\n",
    "    dense_w_1 = var"
   ]
  },
  {
   "cell_type": "code",
   "execution_count": null,
   "metadata": {
    "colab": {
     "base_uri": "https://localhost:8080/",
     "height": 244
    },
    "colab_type": "code",
    "executionInfo": {
     "elapsed": 608,
     "status": "error",
     "timestamp": 1561776336219,
     "user": {
      "displayName": "junseop so",
      "photoUrl": "",
      "userId": "03070847090635331575"
     },
     "user_tz": -540
    },
    "id": "f_n5X2LgFLMY",
    "outputId": "36482d96-8930-4206-ab44-534633665d1e"
   },
   "outputs": [],
   "source": [
    "acc = history.history['acc']\n",
    "val_acc = history.history['val_acc']\n",
    "\n",
    "loss = history.history['loss']\n",
    "val_loss = history.history['val_loss']\n",
    "\n",
    "epochs_range = range(5)\n",
    "\n",
    "plt.figure(figsize=(8, 8))\n",
    "plt.subplot(1, 2, 1)\n",
    "plt.plot(epochs_range, acc, label='Training Accuracy')\n",
    "plt.plot(epochs_range, val_acc, label='Validation Accuracy')\n",
    "plt.legend(loc='lower right')\n",
    "plt.title('Training and Validation Accuracy')\n",
    "\n",
    "plt.subplot(1, 2, 2)\n",
    "plt.plot(epochs_range, loss, label='Training Loss')\n",
    "plt.plot(epochs_range, val_loss, label='Validation Loss')\n",
    "plt.legend(loc='upper right')\n",
    "plt.title('Training and Validation Loss')\n",
    "plt.show()"
   ]
  },
  {
   "cell_type": "code",
   "execution_count": null,
   "metadata": {
    "colab": {},
    "colab_type": "code",
    "id": "iEJ4MWmOFL-Q"
   },
   "outputs": [],
   "source": [
    "history = model.evaluate_generator(test_generator)"
   ]
  },
  {
   "cell_type": "code",
   "execution_count": null,
   "metadata": {
    "colab": {},
    "colab_type": "code",
    "id": "s76dhxrlFM_4"
   },
   "outputs": [],
   "source": [
    "# loss\n",
    "print(\"loss value: {:.3f}\".format(history[0]))\n",
    "# accuracy\n",
    "print(\"accuracy value: {:.3f}\".format(history[1]))"
   ]
  },
  {
   "cell_type": "code",
   "execution_count": null,
   "metadata": {
    "colab": {},
    "colab_type": "code",
    "id": "AsXn9Q1nFN2X"
   },
   "outputs": [],
   "source": []
  }
 ],
 "metadata": {
  "accelerator": "GPU",
  "colab": {
   "name": "10 - Transfer_Learning.ipynb",
   "provenance": [],
   "version": "0.3.2"
  },
  "kernelspec": {
   "display_name": "Python 3",
   "language": "python",
   "name": "python3"
  },
  "language_info": {
   "codemirror_mode": {
    "name": "ipython",
    "version": 3
   },
   "file_extension": ".py",
   "mimetype": "text/x-python",
   "name": "python",
   "nbconvert_exporter": "python",
   "pygments_lexer": "ipython3",
   "version": "3.6.7"
  }
 },
 "nbformat": 4,
 "nbformat_minor": 1
}
