{
 "cells": [
  {
   "cell_type": "markdown",
   "metadata": {},
   "source": [
    "# Score prediction\n"
   ]
  },
  {
   "cell_type": "code",
   "execution_count": 1,
   "metadata": {
    "colab": {
     "base_uri": "https://localhost:8080/",
     "height": 34
    },
    "colab_type": "code",
    "executionInfo": {
     "elapsed": 3150,
     "status": "ok",
     "timestamp": 1562041820599,
     "user": {
      "displayName": "junseop so",
      "photoUrl": "",
      "userId": "03070847090635331575"
     },
     "user_tz": -540
    },
    "id": "ENBsugN3Z25Z",
    "outputId": "52b28425-a35f-4fc9-a934-0a4939412ad4"
   },
   "outputs": [
    {
     "data": {
      "text/plain": [
       "'1.14.0'"
      ]
     },
     "execution_count": 1,
     "metadata": {},
     "output_type": "execute_result"
    }
   ],
   "source": [
    "import tensorflow as tf\n",
    "import tensorflow.contrib.eager as tfe\n",
    "import numpy as np\n",
    "import matplotlib.pyplot as plt\n",
    "\n",
    "tf.enable_eager_execution()\n",
    "tf.__version__"
   ]
  },
  {
   "cell_type": "markdown",
   "metadata": {},
   "source": [
    "## Setting Data"
   ]
  },
  {
   "cell_type": "code",
   "execution_count": 2,
   "metadata": {
    "colab": {
     "base_uri": "https://localhost:8080/",
     "height": 34
    },
    "colab_type": "code",
    "executionInfo": {
     "elapsed": 3144,
     "status": "ok",
     "timestamp": 1562041820600,
     "user": {
      "displayName": "junseop so",
      "photoUrl": "",
      "userId": "03070847090635331575"
     },
     "user_tz": -540
    },
    "id": "8tyyJQoVZtv6",
    "outputId": "62e7b4b0-33a2-4bc2-8828-df7594952210"
   },
   "outputs": [
    {
     "name": "stdout",
     "output_type": "stream",
     "text": [
      "(25, 3) (25, 1)\n"
     ]
    }
   ],
   "source": [
    "xy = np.loadtxt('./data-01-test-score.csv', delimiter=',', dtype=np.float32)\n",
    "\n",
    "x_train = xy[:, 0:-1]\n",
    "y_train = xy[:, [-1]]\n",
    "\n",
    "print(x_train.shape, y_train.shape)\n"
   ]
  },
  {
   "cell_type": "markdown",
   "metadata": {},
   "source": [
    "## make a dataset"
   ]
  },
  {
   "cell_type": "code",
   "execution_count": 3,
   "metadata": {},
   "outputs": [],
   "source": [
    "dataset = tf.data.Dataset.from_tensor_slices((x_train, y_train)).batch(len(x_train))\n"
   ]
  },
  {
   "cell_type": "code",
   "execution_count": 4,
   "metadata": {
    "colab": {
     "base_uri": "https://localhost:8080/",
     "height": 105
    },
    "colab_type": "code",
    "executionInfo": {
     "elapsed": 3134,
     "status": "ok",
     "timestamp": 1562041820600,
     "user": {
      "displayName": "junseop so",
      "photoUrl": "",
      "userId": "03070847090635331575"
     },
     "user_tz": -540
    },
    "id": "yy6hZwGy45kO",
    "outputId": "38ddca41-af7a-491a-b097-619b4b1d1a31"
   },
   "outputs": [
    {
     "name": "stdout",
     "output_type": "stream",
     "text": [
      "<tf.Variable 'weight:0' shape=(3, 1) dtype=float32, numpy=\n",
      "array([[ 0.49808457],\n",
      "       [ 0.46072277],\n",
      "       [-1.099633  ]], dtype=float32)> <tf.Variable 'bias:0' shape=(1,) dtype=float32, numpy=array([0.17739113], dtype=float32)>\n"
     ]
    }
   ],
   "source": [
    "W = tf.Variable(tf.random_normal([3, 1]), name='weight')\n",
    "b = tf.Variable(tf.random_normal([1]), name='bias')\n",
    "\n",
    "print(W,b)\n"
   ]
  },
  {
   "cell_type": "code",
   "execution_count": 5,
   "metadata": {
    "colab": {
     "base_uri": "https://localhost:8080/",
     "height": 459
    },
    "colab_type": "code",
    "executionInfo": {
     "elapsed": 3126,
     "status": "ok",
     "timestamp": 1562041820601,
     "user": {
      "displayName": "junseop so",
      "photoUrl": "",
      "userId": "03070847090635331575"
     },
     "user_tz": -540
    },
    "id": "22WmI9ygawt_",
    "outputId": "8fdb277a-a5e8-447c-9c4e-adc73fc1bb04"
   },
   "outputs": [
    {
     "name": "stdout",
     "output_type": "stream",
     "text": [
      "tf.Tensor(\n",
      "[[ -9.077087 ]\n",
      " [-15.223007 ]\n",
      " [-12.534271 ]\n",
      " [-16.818954 ]\n",
      " [-10.029045 ]\n",
      " [-12.710693 ]\n",
      " [-16.033028 ]\n",
      " [-16.590141 ]\n",
      " [-19.05912  ]\n",
      " [-24.991035 ]\n",
      " [-13.477386 ]\n",
      " [-16.382553 ]\n",
      " [ -9.798683 ]\n",
      " [ -3.8893127]\n",
      " [-17.095291 ]\n",
      " [-18.061188 ]\n",
      " [ -1.1928481]\n",
      " [-20.278572 ]\n",
      " [ -8.173103 ]\n",
      " [ -7.403755 ]\n",
      " [-18.324486 ]\n",
      " [-17.075401 ]\n",
      " [-16.20082  ]\n",
      " [ -1.8021315]\n",
      " [-13.624405 ]], shape=(25, 1), dtype=float32)\n"
     ]
    }
   ],
   "source": [
    "def linear_regression(features):\n",
    "    hypothesis  = tf.matmul(features, W) + b\n",
    "    return hypothesis\n",
    "  \n",
    "print(linear_regression(x_train))"
   ]
  },
  {
   "cell_type": "code",
   "execution_count": 6,
   "metadata": {
    "colab": {},
    "colab_type": "code",
    "id": "RY6ssJoXarTa"
   },
   "outputs": [],
   "source": [
    "def loss_fn(hypothesis, labels):\n",
    "    cost = tf.reduce_mean(tf.square(hypothesis - labels))\n",
    "    return cost\n",
    "\n",
    "optimizer = tf.train.GradientDescentOptimizer(learning_rate=0.00001)"
   ]
  },
  {
   "cell_type": "code",
   "execution_count": 7,
   "metadata": {
    "colab": {
     "base_uri": "https://localhost:8080/",
     "height": 867
    },
    "colab_type": "code",
    "executionInfo": {
     "elapsed": 18208,
     "status": "ok",
     "timestamp": 1562042079118,
     "user": {
      "displayName": "junseop so",
      "photoUrl": "",
      "userId": "03070847090635331575"
     },
     "user_tz": -540
    },
    "id": "wo2YiZdYaEQw",
    "outputId": "4cc2d6a8-70b1-45aa-f094-b5f70d9c0da5"
   },
   "outputs": [
    {
     "name": "stdout",
     "output_type": "stream",
     "text": [
      "Iter: 0, Loss: 11671.4102\n",
      "Iter: 100, Loss: 66.6768\n",
      "Iter: 200, Loss: 61.9355\n",
      "Iter: 300, Loss: 57.5777\n",
      "Iter: 400, Loss: 53.5716\n",
      "Iter: 500, Loss: 49.8883\n",
      "Iter: 600, Loss: 46.5012\n",
      "Iter: 700, Loss: 43.3859\n",
      "Iter: 800, Loss: 40.5201\n",
      "Iter: 900, Loss: 37.8833\n",
      "Iter: 1000, Loss: 35.4568\n",
      "Iter: 1100, Loss: 33.2233\n",
      "Iter: 1200, Loss: 31.1671\n",
      "Iter: 1300, Loss: 29.2738\n",
      "Iter: 1400, Loss: 27.5300\n",
      "Iter: 1500, Loss: 25.9236\n",
      "Iter: 1600, Loss: 24.4434\n",
      "Iter: 1700, Loss: 23.0793\n",
      "Iter: 1800, Loss: 21.8218\n",
      "Iter: 1900, Loss: 20.6622\n",
      "Iter: 2000, Loss: 19.5928\n",
      "Iter: 2100, Loss: 18.6063\n",
      "Iter: 2200, Loss: 17.6959\n",
      "Iter: 2300, Loss: 16.8557\n",
      "Iter: 2400, Loss: 16.0799\n",
      "Iter: 2500, Loss: 15.3635\n",
      "Iter: 2600, Loss: 14.7017\n",
      "Iter: 2700, Loss: 14.0902\n",
      "Iter: 2800, Loss: 13.5250\n",
      "Iter: 2900, Loss: 13.0024\n",
      "Iter: 3000, Loss: 12.5191\n",
      "Iter: 3100, Loss: 12.0720\n",
      "Iter: 3200, Loss: 11.6582\n",
      "Iter: 3300, Loss: 11.2752\n",
      "Iter: 3400, Loss: 10.9205\n",
      "Iter: 3500, Loss: 10.5920\n",
      "Iter: 3600, Loss: 10.2875\n",
      "Iter: 3700, Loss: 10.0053\n",
      "Iter: 3800, Loss: 9.7437\n",
      "Iter: 3900, Loss: 9.5010\n",
      "Iter: 4000, Loss: 9.2758\n",
      "Iter: 4100, Loss: 9.0667\n",
      "Iter: 4200, Loss: 8.8726\n",
      "Iter: 4300, Loss: 8.6923\n",
      "Iter: 4400, Loss: 8.5248\n",
      "Iter: 4500, Loss: 8.3691\n",
      "Iter: 4600, Loss: 8.2243\n",
      "Iter: 4700, Loss: 8.0896\n",
      "Iter: 4800, Loss: 7.9642\n",
      "Iter: 4900, Loss: 7.8475\n"
     ]
    }
   ],
   "source": [
    "epochs = 5000\n",
    "\n",
    "for step in range(epochs):\n",
    "  for features, labels in dataset:\n",
    "    with tf.GradientTape() as tape:\n",
    "      loss_value = loss_fn(linear_regression(features),labels)\n",
    "      grads = tape.gradient(loss_value, [W,b])\n",
    "      optimizer.apply_gradients(grads_and_vars=zip(grads,[W,b]))\n",
    "      if step % 100 == 0:\n",
    "            print(\"Iter: {}, Loss: {:.4f}\".format(step, loss_fn(linear_regression(features),labels)))"
   ]
  },
  {
   "cell_type": "code",
   "execution_count": 8,
   "metadata": {
    "colab": {
     "base_uri": "https://localhost:8080/",
     "height": 105
    },
    "colab_type": "code",
    "executionInfo": {
     "elapsed": 17836,
     "status": "ok",
     "timestamp": 1562042079119,
     "user": {
      "displayName": "junseop so",
      "photoUrl": "",
      "userId": "03070847090635331575"
     },
     "user_tz": -540
    },
    "id": "Fu1S6WVm4M1Y",
    "outputId": "36b3fdfd-5f33-4c05-add5-f2b17d60b8f8"
   },
   "outputs": [
    {
     "name": "stdout",
     "output_type": "stream",
     "text": [
      "<tf.Variable 'weight:0' shape=(3, 1) dtype=float32, numpy=\n",
      "array([[0.59216386],\n",
      "       [0.52536875],\n",
      "       [0.900156  ]], dtype=float32)> <tf.Variable 'bias:0' shape=(1,) dtype=float32, numpy=array([0.187452], dtype=float32)>\n"
     ]
    }
   ],
   "source": [
    "print(W, b)"
   ]
  },
  {
   "cell_type": "code",
   "execution_count": 9,
   "metadata": {
    "colab": {
     "base_uri": "https://localhost:8080/",
     "height": 269
    },
    "colab_type": "code",
    "executionInfo": {
     "elapsed": 17864,
     "status": "ok",
     "timestamp": 1562042079428,
     "user": {
      "displayName": "junseop so",
      "photoUrl": "",
      "userId": "03070847090635331575"
     },
     "user_tz": -540
    },
    "id": "cUJviOQ_aGVH",
    "outputId": "50dce8b3-6b38-4944-a4d8-0060e24398ce"
   },
   "outputs": [
    {
     "data": {
      "image/png": "[encoded data removed]",
      "text/plain": [
       "<Figure size 432x288 with 1 Axes>"
      ]
     },
     "metadata": {
      "needs_background": "light"
     },
     "output_type": "display_data"
    }
   ],
   "source": [
    "hypothesis= linear_regression(x_train)\n",
    "\n",
    "plt.plot(y_train, 'o-', color='red')\n",
    "plt.plot(hypothesis.numpy(), 'o-', color='blue')\n",
    "plt.show()"
   ]
  },
  {
   "cell_type": "code",
   "execution_count": null,
   "metadata": {
    "colab": {},
    "colab_type": "code",
    "id": "4mazQlt-ai-P"
   },
   "outputs": [],
   "source": []
  }
 ],
 "metadata": {
  "colab": {
   "collapsed_sections": [],
   "name": "Q1 - 성적 예측 - sol.ipynb의 사본",
   "provenance": [],
   "version": "0.3.2"
  },
  "kernelspec": {
   "display_name": "Python 3",
   "language": "python",
   "name": "python3"
  },
  "language_info": {
   "codemirror_mode": {
    "name": "ipython",
    "version": 3
   },
   "file_extension": ".py",
   "mimetype": "text/x-python",
   "name": "python",
   "nbconvert_exporter": "python",
   "pygments_lexer": "ipython3",
   "version": "3.6.7"
  }
 },
 "nbformat": 4,
 "nbformat_minor": 1
}
