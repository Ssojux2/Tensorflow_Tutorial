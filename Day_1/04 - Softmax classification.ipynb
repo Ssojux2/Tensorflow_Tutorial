{
 "cells": [
  {
   "cell_type": "code",
   "execution_count": 1,
   "metadata": {
    "colab": {
     "base_uri": "https://localhost:8080/",
     "height": 34
    },
    "colab_type": "code",
    "executionInfo": {
     "elapsed": 2192,
     "status": "ok",
     "timestamp": 1561962960433,
     "user": {
      "displayName": "junseop so",
      "photoUrl": "",
      "userId": "03070847090635331575"
     },
     "user_tz": -540
    },
    "id": "9JutkdoS4X-A",
    "outputId": "a85a746f-3b59-4a1c-e0ac-4c7f1d778293"
   },
   "outputs": [
    {
     "data": {
      "text/plain": [
       "'1.13.1'"
      ]
     },
     "execution_count": 1,
     "metadata": {},
     "output_type": "execute_result"
    }
   ],
   "source": [
    "import tensorflow as tf\n",
    "import numpy as np\n",
    "import matplotlib.pyplot as plt\n",
    "\n",
    "tf.enable_eager_execution()\n",
    "tf.__version__"
   ]
  },
  {
   "cell_type": "markdown",
   "metadata": {
    "colab_type": "text",
    "id": "r8vMWSpBX3iX"
   },
   "source": [
    "# Softmax classification\n",
    "\n",
    "* 임의의 Dataset 준비\n",
    "* 3개의 클래스로 분류할 데이터 준비\n"
   ]
  },
  {
   "cell_type": "code",
   "execution_count": 2,
   "metadata": {
    "colab": {},
    "colab_type": "code",
    "id": "lZH1QvjlFBsE"
   },
   "outputs": [],
   "source": [
    "x_data = [[1., 2., 1., 1.],\n",
    "          [2., 1., 3., 2.],\n",
    "          [3., 1., 3., 4.],\n",
    "          [4., 1., 5., 5.],\n",
    "          [1., 7., 5., 5.],\n",
    "          [1., 2., 5., 6.],\n",
    "          [1., 6., 6., 6.],\n",
    "          [1., 7., 7., 7.]] # 8x4\n",
    "y_data = [[0., 0., 1.],\n",
    "          [0., 0., 1.],\n",
    "          [0., 0., 1.],\n",
    "          [0., 1., 0.],\n",
    "          [0., 1., 0.],\n",
    "          [0., 1., 0.],\n",
    "          [1., 0., 0.],\n",
    "          [1., 0., 0.]] # 8x3\n",
    "\n",
    "x_test = [[1., 1., 1., 1.]]\n",
    "y_test = [[0., 0., 1.]]\n"
   ]
  },
  {
   "cell_type": "markdown",
   "metadata": {},
   "source": [
    "## 임의의 Data를 이용해서 3개의 클래스를 가지는 데이터셋 생성"
   ]
  },
  {
   "cell_type": "code",
   "execution_count": 5,
   "metadata": {
    "colab": {
     "base_uri": "https://localhost:8080/",
     "height": 51
    },
    "colab_type": "code",
    "executionInfo": {
     "elapsed": 2195,
     "status": "ok",
     "timestamp": 1561962960440,
     "user": {
      "displayName": "junseop so",
      "photoUrl": "",
      "userId": "03070847090635331575"
     },
     "user_tz": -540
    },
    "id": "HpNjJzwwX7uz",
    "outputId": "7a72dbc1-fe6f-488f-df89-d5d705a973ca"
   },
   "outputs": [
    {
     "name": "stdout",
     "output_type": "stream",
     "text": [
      "<tf.Variable 'Variable:0' shape=(8, 4) dtype=float32, numpy=\n",
      "array([[1., 2., 1., 1.],\n",
      "       [2., 1., 3., 2.],\n",
      "       [3., 1., 3., 4.],\n",
      "       [4., 1., 5., 5.],\n",
      "       [1., 7., 5., 5.],\n",
      "       [1., 2., 5., 6.],\n",
      "       [1., 6., 6., 6.],\n",
      "       [1., 7., 7., 7.]], dtype=float32)>\n",
      "<tf.Variable 'Variable:0' shape=(8, 3) dtype=float32, numpy=\n",
      "array([[0., 0., 1.],\n",
      "       [0., 0., 1.],\n",
      "       [0., 0., 1.],\n",
      "       [0., 1., 0.],\n",
      "       [0., 1., 0.],\n",
      "       [0., 1., 0.],\n",
      "       [1., 0., 0.],\n",
      "       [1., 0., 0.]], dtype=float32)>\n"
     ]
    }
   ],
   "source": [
    "#dataset을 선언합니다.\n",
    "dataset = tf.data.Dataset.from_tensor_slices((x_data, y_data))\n",
    "dataset = dataset.repeat(1).batch(8)\n",
    "\n",
    "nb_classes = 3 # class의 개수입니다.\n",
    "\n",
    "print(tf.Variable(x_data))\n",
    "print(tf.Variable(y_data))"
   ]
  },
  {
   "cell_type": "code",
   "execution_count": 6,
   "metadata": {
    "colab": {
     "base_uri": "https://localhost:8080/",
     "height": 102
    },
    "colab_type": "code",
    "executionInfo": {
     "elapsed": 2195,
     "status": "ok",
     "timestamp": 1561962960441,
     "user": {
      "displayName": "junseop so",
      "photoUrl": "",
      "userId": "03070847090635331575"
     },
     "user_tz": -540
    },
    "id": "wmHTiEKcX_zD",
    "outputId": "2bdcfef9-9e12-4ee4-f310-a30b30e5aaa6"
   },
   "outputs": [
    {
     "name": "stdout",
     "output_type": "stream",
     "text": [
      "<tf.Variable 'weight:0' shape=(4, 3) dtype=float32, numpy=\n",
      "array([[-0.24752675, -1.1883999 ,  3.0299275 ],\n",
      "       [ 0.22097504, -0.46861383,  0.30399686],\n",
      "       [-0.4120424 ,  0.54114884,  0.5813529 ],\n",
      "       [ 0.7729939 , -0.5954734 ,  0.05274786]], dtype=float32)> <tf.Variable 'bias:0' shape=(3,) dtype=float32, numpy=array([ 1.4292662 , -0.7926837 ,  0.12507212], dtype=float32)>\n"
     ]
    }
   ],
   "source": [
    "#Weight and bias setting\n",
    "W = tf.Variable(tf.random_normal([4, nb_classes]), name='weight')\n",
    "b = tf.Variable(tf.random_normal([nb_classes]), name='bias')\n",
    "variables = [W, b]\n",
    "\n",
    "print(W,b)"
   ]
  },
  {
   "cell_type": "markdown",
   "metadata": {},
   "source": [
    "# 가설 설정\n",
    "\n",
    "* 가설에서 예측한 값들을 이용해 예측값들을 확률로 표현한다.\n",
    "\n",
    "## $$ y_k = \\frac{exp(x_k)}{\\sum_{i=1}^{n}exp(x_i)}  $$"
   ]
  },
  {
   "cell_type": "code",
   "execution_count": 7,
   "metadata": {
    "colab": {
     "base_uri": "https://localhost:8080/",
     "height": 170
    },
    "colab_type": "code",
    "executionInfo": {
     "elapsed": 814,
     "status": "ok",
     "timestamp": 1561962982366,
     "user": {
      "displayName": "junseop so",
      "photoUrl": "",
      "userId": "03070847090635331575"
     },
     "user_tz": -540
    },
    "id": "Kje8MUl-DOMO",
    "outputId": "e1169eed-9493-4e0b-a0b9-a11951e63fa9"
   },
   "outputs": [
    {
     "name": "stdout",
     "output_type": "stream",
     "text": [
      "WARNING:tensorflow:From D:\\anaconda3\\lib\\site-packages\\tensorflow\\python\\ops\\resource_variable_ops.py:642: colocate_with (from tensorflow.python.framework.ops) is deprecated and will be removed in a future version.\n",
      "Instructions for updating:\n",
      "Colocations handled automatically by placer.\n",
      "tf.Tensor(\n",
      "[[8.2180515e-02 5.7789753e-04 9.1724157e-01]\n",
      " [1.0338405e-03 9.6831718e-06 9.9895644e-01]\n",
      " [1.6483627e-04 3.9026993e-08 9.9983513e-01]\n",
      " [1.7526309e-06 2.7733249e-10 9.9999821e-01]\n",
      " [1.9452028e-02 8.2644772e-07 9.8054713e-01]\n",
      " [5.8149721e-02 1.9765312e-05 9.4183058e-01]\n",
      " [1.6138338e-02 9.0207260e-07 9.8386073e-01]\n",
      " [1.1357455e-02 2.1029420e-07 9.8864228e-01]], shape=(8, 3), dtype=float32)\n"
     ]
    }
   ],
   "source": [
    "# tf.nn.softmax computes softmax activations\n",
    "# softmax = exp(logits) / reduce_sum(exp(logits), dim)\n",
    "def hypothesis_softmax(X):\n",
    "    return tf.nn.softmax(tf.matmul(X, W) + b)\n",
    "\n",
    "print(hypothesis_softmax(tf.Variable(x_data)))"
   ]
  },
  {
   "cell_type": "markdown",
   "metadata": {
    "colab_type": "text",
    "id": "aYnGTBv2S-DS"
   },
   "source": [
    "## 가설을 검증할 Cost 함수를 정의합니다\n",
    "$$\n",
    "\\begin{align}\n",
    "cost(h(x),y) & = −log(h(x))  &  if  &  y=1 \\\\\\\\\\\n",
    "cost(h(x),y) & = -log(1−h(x))  &  if  &  y=0\n",
    "\\end{align}\n",
    "$$\n",
    "\n",
    "### 두 식을 한번에 쓰게되면,\n",
    "\n",
    "$$\n",
    "\\begin{align}\n",
    "cost(h(x),y) & = −y log(h(x))−(1−y)log(1−h(x))\n",
    "\\end{align}\n",
    "$$"
   ]
  },
  {
   "cell_type": "code",
   "execution_count": 6,
   "metadata": {
    "colab": {},
    "colab_type": "code",
    "id": "fxXa5whUIwSN"
   },
   "outputs": [],
   "source": [
    "def loss_fn(hypothesis, labels):\n",
    "    cost = -tf.reduce_mean(labels * tf.log(hypothesis) + (1 - labels) * tf.log(1 - hypothesis))\n",
    "    return cost\n",
    "\n",
    "optimizer = tf.train.GradientDescentOptimizer(learning_rate=0.01)"
   ]
  },
  {
   "cell_type": "markdown",
   "metadata": {},
   "source": [
    "### 학습 진행"
   ]
  },
  {
   "cell_type": "code",
   "execution_count": 7,
   "metadata": {
    "colab": {
     "base_uri": "https://localhost:8080/",
     "height": 867
    },
    "colab_type": "code",
    "executionInfo": {
     "elapsed": 19473,
     "status": "ok",
     "timestamp": 1561963225102,
     "user": {
      "displayName": "junseop so",
      "photoUrl": "",
      "userId": "03070847090635331575"
     },
     "user_tz": -540
    },
    "id": "hOHOKhWyIzk9",
    "outputId": "86489f9e-19fd-4e7a-9f2e-f0c0805fce5d",
    "scrolled": true
   },
   "outputs": [
    {
     "name": "stdout",
     "output_type": "stream",
     "text": [
      "Iter: 0, Loss: 4.2428\n",
      "Iter: 100, Loss: 0.9687\n",
      "Iter: 200, Loss: 0.7369\n",
      "Iter: 300, Loss: 0.6119\n",
      "Iter: 400, Loss: 0.4902\n",
      "Iter: 500, Loss: 0.4068\n",
      "Iter: 600, Loss: 0.3744\n",
      "Iter: 700, Loss: 0.3615\n",
      "Iter: 800, Loss: 0.3540\n",
      "Iter: 900, Loss: 0.3484\n",
      "Iter: 1000, Loss: 0.3437\n",
      "Iter: 1100, Loss: 0.3394\n",
      "Iter: 1200, Loss: 0.3355\n",
      "Iter: 1300, Loss: 0.3318\n",
      "Iter: 1400, Loss: 0.3284\n",
      "Iter: 1500, Loss: 0.3252\n",
      "Iter: 1600, Loss: 0.3221\n",
      "Iter: 1700, Loss: 0.3192\n",
      "Iter: 1800, Loss: 0.3165\n",
      "Iter: 1900, Loss: 0.3138\n",
      "Iter: 2000, Loss: 0.3113\n",
      "Iter: 2100, Loss: 0.3088\n",
      "Iter: 2200, Loss: 0.3065\n",
      "Iter: 2300, Loss: 0.3042\n",
      "Iter: 2400, Loss: 0.3019\n",
      "Iter: 2500, Loss: 0.2998\n",
      "Iter: 2600, Loss: 0.2977\n",
      "Iter: 2700, Loss: 0.2956\n",
      "Iter: 2800, Loss: 0.2937\n",
      "Iter: 2900, Loss: 0.2917\n",
      "Iter: 3000, Loss: 0.2898\n",
      "Iter: 3100, Loss: 0.2879\n",
      "Iter: 3200, Loss: 0.2861\n",
      "Iter: 3300, Loss: 0.2843\n",
      "Iter: 3400, Loss: 0.2826\n",
      "Iter: 3500, Loss: 0.2809\n",
      "Iter: 3600, Loss: 0.2792\n",
      "Iter: 3700, Loss: 0.2775\n",
      "Iter: 3800, Loss: 0.2759\n",
      "Iter: 3900, Loss: 0.2743\n",
      "Iter: 4000, Loss: 0.2727\n",
      "Iter: 4100, Loss: 0.2711\n",
      "Iter: 4200, Loss: 0.2696\n",
      "Iter: 4300, Loss: 0.2681\n",
      "Iter: 4400, Loss: 0.2666\n",
      "Iter: 4500, Loss: 0.2651\n",
      "Iter: 4600, Loss: 0.2636\n",
      "Iter: 4700, Loss: 0.2622\n",
      "Iter: 4800, Loss: 0.2608\n",
      "Iter: 4900, Loss: 0.2594\n"
     ]
    }
   ],
   "source": [
    "epochs = 5000\n",
    "\n",
    "for step in range(epochs):\n",
    "  for features, labels in dataset:\n",
    "    with tf.GradientTape() as tape:\n",
    "      loss_value = loss_fn(hypothesis_softmax(features),labels)\n",
    "      grads = tape.gradient(loss_value, [W,b])\n",
    "      optimizer.apply_gradients(grads_and_vars=zip(grads,[W,b]))\n",
    "      if step % 100 == 0:\n",
    "            print(\"Iter: {}, Loss: {:.4f}\".format(step, loss_fn(hypothesis_softmax(features),labels)))"
   ]
  },
  {
   "cell_type": "markdown",
   "metadata": {},
   "source": [
    "## Sample 데이터를 넣고 테스트해봅시다."
   ]
  },
  {
   "cell_type": "code",
   "execution_count": 8,
   "metadata": {
    "colab": {
     "base_uri": "https://localhost:8080/",
     "height": 187
    },
    "colab_type": "code",
    "executionInfo": {
     "elapsed": 675,
     "status": "ok",
     "timestamp": 1561963228798,
     "user": {
      "displayName": "junseop so",
      "photoUrl": "",
      "userId": "03070847090635331575"
     },
     "user_tz": -540
    },
    "id": "pyNxH16II0st",
    "outputId": "448ae1c6-9e4c-42ee-f8ea-5b34f5b00211"
   },
   "outputs": [
    {
     "name": "stdout",
     "output_type": "stream",
     "text": [
      "tf.Tensor([[0.02830613 0.17317946 0.7985144 ]], shape=(1, 3), dtype=float32)\n",
      "tf.Tensor([2], shape=(1,), dtype=int64)\n"
     ]
    }
   ],
   "source": [
    "sample_data = [[2,1,3,2]] # answer_label [[0,0,1]]\n",
    "sample_data = np.asarray(sample_data, dtype=np.float32)\n",
    "\n",
    "a = hypothesis_softmax(sample_data)\n",
    "\n",
    "print(a)\n",
    "print(tf.argmax(a, 1)) #index: 2"
   ]
  },
  {
   "cell_type": "markdown",
   "metadata": {},
   "source": [
    "## 데이터를 이용해서 예측"
   ]
  },
  {
   "cell_type": "code",
   "execution_count": 9,
   "metadata": {
    "colab": {
     "base_uri": "https://localhost:8080/",
     "height": 204
    },
    "colab_type": "code",
    "executionInfo": {
     "elapsed": 682,
     "status": "ok",
     "timestamp": 1561963231256,
     "user": {
      "displayName": "junseop so",
      "photoUrl": "",
      "userId": "03070847090635331575"
     },
     "user_tz": -540
    },
    "id": "9qJfHxEnI25d",
    "outputId": "8382692e-02f8-4ba1-c263-f49828e76a0c"
   },
   "outputs": [
    {
     "name": "stdout",
     "output_type": "stream",
     "text": [
      "tf.Tensor(\n",
      "[[0.00785363 0.02094103 0.9712053 ]\n",
      " [0.02830613 0.17317946 0.7985144 ]\n",
      " [0.00134477 0.31812218 0.68053305]\n",
      " [0.0014618  0.6991368  0.29940143]\n",
      " [0.55959857 0.3501925  0.09020896]\n",
      " [0.26620394 0.73202544 0.00177065]\n",
      " [0.6299294  0.3647595  0.00531116]\n",
      " [0.70552933 0.2934914  0.00097937]], shape=(8, 3), dtype=float32)\n",
      "tf.Tensor([2 2 2 1 0 1 0 0], shape=(8,), dtype=int64)\n",
      "tf.Tensor([2 2 2 1 1 1 0 0], shape=(8,), dtype=int64)\n"
     ]
    }
   ],
   "source": [
    "b = hypothesis_softmax(x_data)\n",
    "print(b)\n",
    "print(tf.argmax(b, 1))\n",
    "print(tf.argmax(y_data, 1)) # matches with y_data\n"
   ]
  },
  {
   "cell_type": "code",
   "execution_count": 10,
   "metadata": {
    "colab": {
     "base_uri": "https://localhost:8080/",
     "height": 34
    },
    "colab_type": "code",
    "executionInfo": {
     "elapsed": 817,
     "status": "ok",
     "timestamp": 1561963233109,
     "user": {
      "displayName": "junseop so",
      "photoUrl": "",
      "userId": "03070847090635331575"
     },
     "user_tz": -540
    },
    "id": "CkhpaF-rCMnZ",
    "outputId": "5b0856ce-017b-4c01-f098-1bcd948936d7"
   },
   "outputs": [
    {
     "name": "stdout",
     "output_type": "stream",
     "text": [
      "Testset Accuracy: 0.7500\n"
     ]
    }
   ],
   "source": [
    "def accuracy_fn(hypothesis, labels):\n",
    "    predicted = tf.cast(hypothesis > 0.5, dtype=tf.float32)\n",
    "    accuracy = tf.reduce_mean(tf.cast(tf.equal(predicted, labels), dtype=tf.float32))\n",
    "    return accuracy\n",
    "  \n",
    "test_acc = accuracy_fn(hypothesis_softmax(x_data),y_data)\n",
    "print(\"Testset Accuracy: {:.4f}\".format(test_acc))"
   ]
  },
  {
   "cell_type": "code",
   "execution_count": null,
   "metadata": {
    "colab": {},
    "colab_type": "code",
    "id": "CHq7WwDzE1oh"
   },
   "outputs": [],
   "source": []
  }
 ],
 "metadata": {
  "colab": {
   "collapsed_sections": [],
   "name": "4 - Softmax classification.ipynb",
   "provenance": [],
   "version": "0.3.2"
  },
  "kernelspec": {
   "display_name": "Python 3",
   "language": "python",
   "name": "python3"
  },
  "language_info": {
   "codemirror_mode": {
    "name": "ipython",
    "version": 3
   },
   "file_extension": ".py",
   "mimetype": "text/x-python",
   "name": "python",
   "nbconvert_exporter": "python",
   "pygments_lexer": "ipython3",
   "version": "3.7.3"
  }
 },
 "nbformat": 4,
 "nbformat_minor": 1
}
