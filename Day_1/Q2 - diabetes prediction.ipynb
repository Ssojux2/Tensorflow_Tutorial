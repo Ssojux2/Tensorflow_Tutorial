{
 "cells": [
  {
   "cell_type": "code",
   "execution_count": null,
   "metadata": {
    "colab": {
     "base_uri": "https://localhost:8080/",
     "height": 34
    },
    "colab_type": "code",
    "executionInfo": {
     "elapsed": 3465,
     "status": "ok",
     "timestamp": 1561973775863,
     "user": {
      "displayName": "junseop so",
      "photoUrl": "",
      "userId": "03070847090635331575"
     },
     "user_tz": -540
    },
    "id": "ENBsugN3Z25Z",
    "outputId": "5dc27312-34c8-428d-e98c-a91e048a0ed7"
   },
   "outputs": [],
   "source": [
    "import tensorflow as tf\n",
    "import tensorflow.contrib.eager as tfe\n",
    "import numpy as np\n",
    "import matplotlib.pyplot as plt\n",
    "\n",
    "tf.enable_eager_execution()\n",
    "tf.__version__"
   ]
  },
  {
   "cell_type": "markdown",
   "metadata": {},
   "source": [
    "# 당뇨병을 진단해봅시다."
   ]
  },
  {
   "cell_type": "code",
   "execution_count": null,
   "metadata": {
    "colab": {
     "base_uri": "https://localhost:8080/",
     "height": 51
    },
    "colab_type": "code",
    "executionInfo": {
     "elapsed": 3459,
     "status": "ok",
     "timestamp": 1561973775864,
     "user": {
      "displayName": "junseop so",
      "photoUrl": "",
      "userId": "03070847090635331575"
     },
     "user_tz": -540
    },
    "id": "8tyyJQoVZtv6",
    "outputId": "5814f966-a01d-4b75-d298-c030a9bbfd59"
   },
   "outputs": [],
   "source": [
    "xy = np.loadtxt('./data-03-diabetes.csv', delimiter=',', dtype=np.float32)\n",
    "x_train = xy[0:-1, 0:-1]\n",
    "y_train = xy[0:-1, [-1]]\n",
    "\n",
    "x_test = xy[[-1], 0:-1]\n",
    "y_test = xy[[-1], [-1]]\n",
    "\n",
    "print(x_train.shape, y_train.shape)\n",
    "print(x_test.shape, y_test.shape)"
   ]
  },
  {
   "cell_type": "code",
   "execution_count": null,
   "metadata": {
    "colab": {
     "base_uri": "https://localhost:8080/",
     "height": 68
    },
    "colab_type": "code",
    "executionInfo": {
     "elapsed": 3454,
     "status": "ok",
     "timestamp": 1561973775864,
     "user": {
      "displayName": "junseop so",
      "photoUrl": "",
      "userId": "03070847090635331575"
     },
     "user_tz": -540
    },
    "id": "apdbQwZ9Z2DV",
    "outputId": "2d958609-3bb1-4b1a-df4d-e7b53b4e0d1e"
   },
   "outputs": [],
   "source": [
    "print(x_test)\n",
    "print(y_test)"
   ]
  },
  {
   "cell_type": "code",
   "execution_count": null,
   "metadata": {},
   "outputs": [],
   "source": [
    "dataset = tf.data.Dataset.from_tensor_slices((x_train, y_train)).batch(len(x_train))\n"
   ]
  },
  {
   "cell_type": "code",
   "execution_count": null,
   "metadata": {
    "colab": {},
    "colab_type": "code",
    "id": "yy6hZwGy45kO"
   },
   "outputs": [],
   "source": [
    "W = tf.Variable(tf.random_normal(# TODO), name='weight')\n",
    "b = tf.Variable(tf.random_normal(# TODO), name='bias')\n"
   ]
  },
  {
   "cell_type": "markdown",
   "metadata": {},
   "source": [
    "## 가설 설정\n",
    "* 병이 있다 / 없다로 분류\n",
    "* sigmoid classification으로 진행\n",
    "\n",
    "\n",
    "## $$ y_k = \\frac{1}{1+e^{-x}} = \\frac{exp(x_k)}{\\sum_{i=1}^{n}exp(x_i)}   $$"
   ]
  },
  {
   "cell_type": "code",
   "execution_count": null,
   "metadata": {
    "colab": {
     "base_uri": "https://localhost:8080/",
     "height": 1000
    },
    "colab_type": "code",
    "executionInfo": {
     "elapsed": 3446,
     "status": "ok",
     "timestamp": 1561973775868,
     "user": {
      "displayName": "junseop so",
      "photoUrl": "",
      "userId": "03070847090635331575"
     },
     "user_tz": -540
    },
    "id": "22WmI9ygawt_",
    "outputId": "05a93f2e-69c2-421e-f4aa-8295251e66a5"
   },
   "outputs": [],
   "source": [
    "def logistic_regression(features):\n",
    "    hypothesis  = # TODO\n",
    "    return hypothesis\n",
    "  \n",
    "print(logistic_regression(x_train))"
   ]
  },
  {
   "cell_type": "markdown",
   "metadata": {},
   "source": [
    "## Loss Function\n",
    "\n",
    "* 기존 MSE 대신 Cross Entropy 사용\n",
    "\n",
    "## $$\n",
    "\\begin{align}\n",
    "loss(h(x),y) & = −y log(h(x))−(1−y)log(1−h(x))\n",
    "\\end{align}\n",
    "$$"
   ]
  },
  {
   "cell_type": "code",
   "execution_count": null,
   "metadata": {
    "colab": {},
    "colab_type": "code",
    "id": "RY6ssJoXarTa"
   },
   "outputs": [],
   "source": [
    "def loss_fn(hypothesis, labels):\n",
    "    cost = # TODO\n",
    "    return cost\n",
    "\n",
    "optimizer = tf.train.GradientDescentOptimizer(learning_rate=0.05)"
   ]
  },
  {
   "cell_type": "markdown",
   "metadata": {},
   "source": [
    "## 학습"
   ]
  },
  {
   "cell_type": "code",
   "execution_count": null,
   "metadata": {
    "colab": {
     "base_uri": "https://localhost:8080/",
     "height": 867
    },
    "colab_type": "code",
    "executionInfo": {
     "elapsed": 28926,
     "status": "ok",
     "timestamp": 1561973801360,
     "user": {
      "displayName": "junseop so",
      "photoUrl": "",
      "userId": "03070847090635331575"
     },
     "user_tz": -540
    },
    "id": "wo2YiZdYaEQw",
    "outputId": "8c7f4872-0ceb-4284-f5dc-d6011616951a"
   },
   "outputs": [],
   "source": [
    "epochs = 5000\n",
    "\n",
    "for step in range(epochs):\n",
    "  for features, labels in dataset:\n",
    "    with tf.GradientTape() as tape:\n",
    "      loss_value = # TODO\n",
    "      grads = # TODO \n",
    "      optimizer.apply_gradients(grads_and_vars=zip(# TODO))\n",
    "      if step % 100 == 0:\n",
    "            print(\"Iter: {}, Loss: {:.4f}\".format(step, loss_fn(logistic_regression(features),labels)))"
   ]
  },
  {
   "cell_type": "markdown",
   "metadata": {},
   "source": [
    "## 테스트"
   ]
  },
  {
   "cell_type": "code",
   "execution_count": null,
   "metadata": {
    "colab": {},
    "colab_type": "code",
    "id": "cUJviOQ_aGVH"
   },
   "outputs": [],
   "source": [
    "def accuracy_fn(hypothesis, labels):\n",
    "    predicted = tf.cast(hypothesis > 0.5, dtype=tf.float32)\n",
    "    accuracy = tf.reduce_mean(tf.cast(tf.equal(predicted, labels), dtype=tf.int32))\n",
    "    return accuracy"
   ]
  },
  {
   "cell_type": "code",
   "execution_count": null,
   "metadata": {
    "colab": {
     "base_uri": "https://localhost:8080/",
     "height": 34
    },
    "colab_type": "code",
    "executionInfo": {
     "elapsed": 28922,
     "status": "ok",
     "timestamp": 1561973801366,
     "user": {
      "displayName": "junseop so",
      "photoUrl": "",
      "userId": "03070847090635331575"
     },
     "user_tz": -540
    },
    "id": "vT0_ZXQLaIEN",
    "outputId": "36a4b8f3-ce9d-47a1-dd03-7d7a55c19e54"
   },
   "outputs": [],
   "source": [
    "test_acc = accuracy_fn(logistic_regression(x_test),y_test)\n",
    "print(\"Testset Accuracy: {:.4f}\".format(test_acc))"
   ]
  },
  {
   "cell_type": "code",
   "execution_count": null,
   "metadata": {
    "colab": {},
    "colab_type": "code",
    "id": "4mazQlt-ai-P"
   },
   "outputs": [],
   "source": []
  }
 ],
 "metadata": {
  "colab": {
   "name": "Q1 - 당뇨병 예측 - sol.ipynb",
   "provenance": [],
   "version": "0.3.2"
  },
  "kernelspec": {
   "display_name": "Python 3",
   "language": "python",
   "name": "python3"
  },
  "language_info": {
   "codemirror_mode": {
    "name": "ipython",
    "version": 3
   },
   "file_extension": ".py",
   "mimetype": "text/x-python",
   "name": "python",
   "nbconvert_exporter": "python",
   "pygments_lexer": "ipython3",
   "version": "3.7.3"
  }
 },
 "nbformat": 4,
 "nbformat_minor": 1
}
