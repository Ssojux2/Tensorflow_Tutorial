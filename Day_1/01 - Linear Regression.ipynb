{
 "cells": [
  {
   "cell_type": "markdown",
   "metadata": {
    "colab_type": "text",
    "id": "z8juHB30ID_y"
   },
   "source": [
    "# Linear Regression"
   ]
  },
  {
   "cell_type": "markdown",
   "metadata": {
    "colab_type": "text",
    "id": "8YN6sNhzIMM1"
   },
   "source": [
    "\n"
   ]
  },
  {
   "cell_type": "code",
   "execution_count": 1,
   "metadata": {
    "colab": {
     "base_uri": "https://localhost:8080/",
     "height": 34
    },
    "colab_type": "code",
    "executionInfo": {
     "elapsed": 1093,
     "status": "ok",
     "timestamp": 1561961328988,
     "user": {
      "displayName": "junseop so",
      "photoUrl": "",
      "userId": "03070847090635331575"
     },
     "user_tz": -540
    },
    "id": "fgFXOeQ3IGBv",
    "outputId": "4d8c164d-5001-4e8a-d052-c9e0547d96db"
   },
   "outputs": [
    {
     "data": {
      "text/plain": [
       "'2.0.0'"
      ]
     },
     "execution_count": 1,
     "metadata": {},
     "output_type": "execute_result"
    }
   ],
   "source": [
    "import tensorflow as tf\n",
    "import numpy as np\n",
    "import matplotlib.pyplot as plt\n",
    "\n",
    "tf.__version__"
   ]
  },
  {
   "cell_type": "markdown",
   "metadata": {
    "colab_type": "text",
    "id": "6UTdIW-gJWwr"
   },
   "source": [
    "## Hypothesis\n",
    "\n",
    "* 우리가 세운 가설을 코드로 만들어봅시다.\n",
    "\n",
    "$$ H(x) = Wx + b $$\n",
    "\n",
    "* 예측해야되는 데이터는 주어집니다."
   ]
  },
  {
   "cell_type": "code",
   "execution_count": 2,
   "metadata": {
    "colab": {
     "base_uri": "https://localhost:8080/",
     "height": 269
    },
    "colab_type": "code",
    "executionInfo": {
     "elapsed": 1150,
     "status": "ok",
     "timestamp": 1561961329498,
     "user": {
      "displayName": "junseop so",
      "photoUrl": "",
      "userId": "03070847090635331575"
     },
     "user_tz": -540
    },
    "id": "R6EeL-OAJpKd",
    "outputId": "ef91515b-dcd4-4ead-8df5-5d09af3fe05c"
   },
   "outputs": [
    {
     "data": {
      "image/png": "[encoded data removed]",
      "text/plain": [
       "<Figure size 432x288 with 1 Axes>"
      ]
     },
     "metadata": {
      "needs_background": "light"
     },
     "output_type": "display_data"
    }
   ],
   "source": [
    "# 주어진 데이터를 확인해 봅시다.\n",
    "x_data = [1, 2, 3, 4, 5]\n",
    "y_data = [1, 2, 3, 4, 5]\n",
    "\n",
    "#이 데이터를 표현하는 모델을 정의해봅시다.\n",
    "\n",
    "W = tf.Variable(1.7) # 임의의 값\n",
    "b = tf.Variable(0.5) # 임의의 값\n",
    "\n",
    "# Hpyothesis 가설\n",
    "hypothesis = W * x_data + b\n",
    "\n",
    "# 표로 출력\n",
    "plt.plot(x_data, hypothesis.numpy())\n",
    "plt.plot(x_data, y_data, 'o')\n",
    "plt.show()"
   ]
  },
  {
   "cell_type": "markdown",
   "metadata": {
    "colab_type": "text",
    "id": "olIAgNvrJ1WO"
   },
   "source": [
    "## Cost\n",
    "$$ cost(W)=\\frac { 1 }{ m } \\sum _{i=1}^{m}{ { ({ H(x_{ i }) }-y_{ i } })^{ 2 } }  $$"
   ]
  },
  {
   "cell_type": "code",
   "execution_count": 3,
   "metadata": {
    "colab": {
     "base_uri": "https://localhost:8080/",
     "height": 34
    },
    "colab_type": "code",
    "executionInfo": {
     "elapsed": 1180,
     "status": "ok",
     "timestamp": 1561961331141,
     "user": {
      "displayName": "junseop so",
      "photoUrl": "",
      "userId": "03070847090635331575"
     },
     "user_tz": -540
    },
    "id": "31iigy8iLqcO",
    "outputId": "a2b26f08-8560-4305-84d3-6e6d398f66c1"
   },
   "outputs": [
    {
     "name": "stdout",
     "output_type": "stream",
     "text": [
      "tf.Tensor(9, shape=(), dtype=int32)\n"
     ]
    }
   ],
   "source": [
    "# Cost function == Loss Function\n",
    "cost = tf.reduce_mean(tf.square(hypothesis - y_data))\n",
    "\n",
    "sq = tf.square(3) # 제곱을 해주는 함수\n",
    "print(sq)\n"
   ]
  },
  {
   "cell_type": "markdown",
   "metadata": {
    "colab_type": "text",
    "id": "MhRaJ2h965WJ"
   },
   "source": [
    "# Cost Function을 조금 더 쉽게 표현해봅시다.\n",
    "## Simplifed hypothesis\n",
    "\n",
    "$$ H(x) = Wx $$ \n",
    "\n",
    "$$ cost(W)=\\frac { 1 }{ m } \\sum _{i=1}^{m}{ { ({ H(x_{ i }) }-y_{ i } })^{ 2 } }  $$\n",
    "\n",
    "* b 를 W 행렬에 포함 시킬 수 있기 때문에 생략이 가능하다\n",
    "* Cost 함수를 정의해보자\n",
    "\n",
    "* 차원을 축소시켜서 생각해 볼 수 있다.\n"
   ]
  },
  {
   "cell_type": "code",
   "execution_count": 4,
   "metadata": {
    "colab": {},
    "colab_type": "code",
    "id": "ew3Jx4nX7FKZ"
   },
   "outputs": [],
   "source": [
    "def cost_func(W, X, Y):\n",
    "  hypothesis = X * W\n",
    "  return tf.reduce_mean(tf.square(hypothesis - Y))"
   ]
  },
  {
   "cell_type": "markdown",
   "metadata": {
    "colab_type": "text",
    "id": "bddR0hao7NJN"
   },
   "source": [
    "## 우리가 가정한 Cost Funtion을 살펴보자\n",
    "\n",
    "$$ cost(W)=\\frac { 1 }{ m } \\sum _{i=1}^{m}{ { ({ H(x_{ i }) }-y_{ i } })^{ 2 } }  $$\n",
    "\n",
    "W = -1, cost(W) = 18.67\n",
    "$$ cost(W)=\\frac { 1 }{ 3 } ( (-1 * 1 - 1)^2 + (-1 * 2 - 2)^2 + (-1 * 3 - 3)^2) $$\n",
    "\n",
    "W = 0, cost(W) = 4.67\n",
    "$$ cost(W)=\\frac { 1 }{ 3 } ( (0 * 1 - 1)^2 + (0 * 2 - 2)^2 + (0 * 3 - 3)^2) $$\n",
    "\n",
    "W = 1, cost(W) = 0\n",
    "$$ cost(W)=\\frac { 1 }{ 3 } ( (1 * 1 - 1)^2 + (1 * 2 - 2)^2 + (1 * 3 - 3)^2) $$\n",
    "\n",
    "W = 2, cost(W) = 4.67\n",
    "$$ cost(W)=\\frac { 1 }{ 3 } ( (2 * 1 - 1)^2 + (2 * 2 - 2)^2 + (2 * 3 - 3)^2) $$\n"
   ]
  },
  {
   "cell_type": "code",
   "execution_count": 5,
   "metadata": {
    "colab": {
     "base_uri": "https://localhost:8080/",
     "height": 538
    },
    "colab_type": "code",
    "executionInfo": {
     "elapsed": 1248,
     "status": "ok",
     "timestamp": 1561961073594,
     "user": {
      "displayName": "junseop so",
      "photoUrl": "",
      "userId": "03070847090635331575"
     },
     "user_tz": -540
    },
    "id": "DcbA7CkYH5IW",
    "outputId": "82670b03-91da-40fe-8e97-77b03a9141dc"
   },
   "outputs": [
    {
     "name": "stdout",
     "output_type": "stream",
     "text": [
      "-3.000 |   74.66667\n",
      "-2.429 |   54.85714\n",
      "-1.857 |   38.09524\n",
      "-1.286 |   24.38095\n",
      "-0.714 |   13.71429\n",
      "-0.143 |    6.09524\n",
      " 0.429 |    1.52381\n",
      " 1.000 |    0.00000\n",
      " 1.571 |    1.52381\n",
      " 2.143 |    6.09524\n",
      " 2.714 |   13.71429\n",
      " 3.286 |   24.38095\n",
      " 3.857 |   38.09524\n",
      " 4.429 |   54.85714\n",
      " 5.000 |   74.66667\n"
     ]
    },
    {
     "data": {
      "image/png": "[encoded data removed]",
      "text/plain": [
       "<Figure size 432x288 with 1 Axes>"
      ]
     },
     "metadata": {
      "needs_background": "light"
     },
     "output_type": "display_data"
    }
   ],
   "source": [
    "X = np.array([1, 2, 3])\n",
    "Y = np.array([1, 2, 3])\n",
    "\n",
    "W_values = np.linspace(-3, 5, num=15) # -3 ~ 5 사이의 15개 숫자들 - 15등분\n",
    "cost_values = []\n",
    "\n",
    "for feed_W in W_values:\n",
    "    curr_cost = cost_func(feed_W, X, Y)\n",
    "    cost_values.append(curr_cost)\n",
    "    print(\"{:6.3f} | {:10.5f}\".format(feed_W, curr_cost))\n",
    "    \n",
    "# Cost Function을 시각화 해보자    \n",
    "    \n",
    "plt.plot(W_values, cost_values, \"b\")\n",
    "plt.ylabel('Cost(W)')\n",
    "plt.xlabel('W')\n",
    "plt.grid(True)\n",
    "plt.show()"
   ]
  },
  {
   "cell_type": "markdown",
   "metadata": {
    "colab_type": "text",
    "id": "3J0IwKqtJJGS"
   },
   "source": [
    "# Cost Function을 이용해서 최적 값은 어떻게 찾는것일까?\n",
    "\n",
    "## Minimizing Cost == Gradient descent\n",
    "\n",
    "$$ cost(W)=\\frac { 1 }{ 2m } \\sum _{i=1}^{m}{ { ({ H(x_{ i }) }-y_{ i } })^{ 2 } }  $$\n",
    "\n",
    "$$ W:=W-\\alpha \\frac { 1 }{ m } \\sum _{i=1}^{m}{ { ({ H(x_{ i }) }-y_{ i } })^{ 2 } }  $$\n",
    "\n",
    "$$ \\alpha = Learning Rate $$"
   ]
  },
  {
   "cell_type": "code",
   "execution_count": 6,
   "metadata": {
    "colab": {
     "base_uri": "https://localhost:8080/",
     "height": 527
    },
    "colab_type": "code",
    "executionInfo": {
     "elapsed": 2126,
     "status": "ok",
     "timestamp": 1561961962494,
     "user": {
      "displayName": "junseop so",
      "photoUrl": "",
      "userId": "03070847090635331575"
     },
     "user_tz": -540
    },
    "id": "4HaRA3N1JMvA",
    "outputId": "cef90683-d0ea-4877-b5c3-fea07a65d34a"
   },
   "outputs": [
    {
     "name": "stdout",
     "output_type": "stream",
     "text": [
      "step :   0, cost :  44.8467, W : 3.955333\n",
      "step :  10, cost :  17.2435, W : 2.832543\n",
      "step :  20, cost :  6.6301, W : 2.136324\n",
      "step :  30, cost :  2.5493, W : 1.704612\n",
      "step :  40, cost :  0.9802, W : 1.436916\n",
      "step :  50, cost :  0.3769, W : 1.270923\n",
      "step :  60, cost :  0.1449, W : 1.167994\n",
      "step :  70, cost :  0.0557, W : 1.104170\n",
      "step :  80, cost :  0.0214, W : 1.064594\n",
      "step :  90, cost :  0.0082, W : 1.040053\n",
      "step : 100, cost :  0.0032, W : 1.024836\n",
      "step : 110, cost :  0.0012, W : 1.015400\n",
      "step : 120, cost :  0.0005, W : 1.009549\n",
      "step : 130, cost :  0.0002, W : 1.005921\n",
      "step : 140, cost :  0.0001, W : 1.003672\n",
      "step : 150, cost :  0.0000, W : 1.002277\n",
      "step : 160, cost :  0.0000, W : 1.001412\n",
      "step : 170, cost :  0.0000, W : 1.000875\n",
      "step : 180, cost :  0.0000, W : 1.000543\n",
      "step : 190, cost :  0.0000, W : 1.000337\n",
      "step : 200, cost :  0.0000, W : 1.000208\n",
      "step : 210, cost :  0.0000, W : 1.000129\n",
      "step : 220, cost :  0.0000, W : 1.000080\n",
      "step : 230, cost :  0.0000, W : 1.000050\n",
      "step : 240, cost :  0.0000, W : 1.000031\n",
      "step : 250, cost :  0.0000, W : 1.000019\n",
      "step : 260, cost :  0.0000, W : 1.000012\n",
      "step : 270, cost :  0.0000, W : 1.000008\n",
      "step : 280, cost :  0.0000, W : 1.000005\n",
      "step : 290, cost :  0.0000, W : 1.000003\n"
     ]
    }
   ],
   "source": [
    "W = tf.Variable([4.1]) # 임의의 값\n",
    "\n",
    "for step in range(300):\n",
    "    hypothesis = W * X\n",
    "    cost = tf.reduce_mean(tf.square(hypothesis - Y))\n",
    "\n",
    "    # Gradient Descent의 동작 원리\n",
    "    lr = 0.01\n",
    "    gradient = tf.reduce_mean(tf.multiply(tf.multiply(W, X) - Y, X))\n",
    "    descent = W - tf.multiply(lr, gradient)\n",
    "    W.assign(descent)\n",
    "    \n",
    "    if step % 10 == 0:\n",
    "        print(\"step : {:3}, cost :  {:5.4f}, W : {:5.6f}\".format(step, cost.numpy(), W.numpy()[0]))\n",
    "        "
   ]
  },
  {
   "cell_type": "markdown",
   "metadata": {
    "colab_type": "text",
    "id": "YXaVsxPGDTdP"
   },
   "source": [
    "# 다시 돌아와서 가설과 Cost Function을 이용해 계산해봅시다.\n",
    "## GradientTape()\n",
    "* 위에서는 직접 가중치의 업데이트를 진행\n",
    "* TF에서 지원하는 함수로 업데이트할 가중치를 계산해 주는 역할\n",
    "* Cost 함수와 예측 값으로 가중치를 얼마나 업데이트할지 결정해준다."
   ]
  },
  {
   "cell_type": "code",
   "execution_count": 7,
   "metadata": {
    "colab": {
     "base_uri": "https://localhost:8080/",
     "height": 34
    },
    "colab_type": "code",
    "executionInfo": {
     "elapsed": 1326,
     "status": "ok",
     "timestamp": 1561961332370,
     "user": {
      "displayName": "junseop so",
      "photoUrl": "",
      "userId": "03070847090635331575"
     },
     "user_tz": -540
    },
    "id": "Q0Ka_VnULyZ2",
    "outputId": "18603395-4b28-4997-a3b2-b239e2a7b6a7"
   },
   "outputs": [
    {
     "name": "stdout",
     "output_type": "stream",
     "text": [
      "tf.Tensor(18.400002, shape=(), dtype=float32) tf.Tensor(5.2000003, shape=(), dtype=float32)\n"
     ]
    }
   ],
   "source": [
    "W = tf.Variable(1.7) # 임의의 값\n",
    "b = tf.Variable(0.5) # 임의의 값\n",
    "\n",
    "with tf.GradientTape() as tape:\n",
    "  hypothesis = W * x_data + b\n",
    "  cost = tf.reduce_mean(tf.square(hypothesis - y_data))\n",
    "  \n",
    "W_grad, b_grad = tape.gradient(cost, [W, b])\n",
    "\n",
    "print(W_grad, b_grad)\n"
   ]
  },
  {
   "cell_type": "markdown",
   "metadata": {
    "colab_type": "text",
    "id": "WoIf_xhLN77Q"
   },
   "source": [
    "## assign_sub()\n",
    "\n",
    "* A = A - B\n",
    "* A -= B\n",
    "* 위의 계산을 해주는 함수\n",
    "\n",
    "* 가중치 값을 업데이트"
   ]
  },
  {
   "cell_type": "code",
   "execution_count": 8,
   "metadata": {
    "colab": {
     "base_uri": "https://localhost:8080/",
     "height": 34
    },
    "colab_type": "code",
    "executionInfo": {
     "elapsed": 548,
     "status": "ok",
     "timestamp": 1561961332788,
     "user": {
      "displayName": "junseop so",
      "photoUrl": "",
      "userId": "03070847090635331575"
     },
     "user_tz": -540
    },
    "id": "-ZeGq578MItm",
    "outputId": "be686425-a469-4d7c-b6b0-970bf5998eeb"
   },
   "outputs": [
    {
     "data": {
      "text/plain": [
       "(1.516, 0.448)"
      ]
     },
     "execution_count": 8,
     "metadata": {},
     "output_type": "execute_result"
    }
   ],
   "source": [
    "learning_rate = 0.01\n",
    "\n",
    "W.assign_sub(learning_rate * W_grad)\n",
    "b.assign_sub(learning_rate * b_grad)\n",
    "\n",
    "W.numpy(), b.numpy()"
   ]
  },
  {
   "cell_type": "markdown",
   "metadata": {
    "colab_type": "text",
    "id": "pwJH_SysN4LP"
   },
   "source": [
    "### 여러번 돌려봅시다."
   ]
  },
  {
   "cell_type": "code",
   "execution_count": 9,
   "metadata": {
    "colab": {
     "base_uri": "https://localhost:8080/",
     "height": 439
    },
    "colab_type": "code",
    "executionInfo": {
     "elapsed": 1378,
     "status": "ok",
     "timestamp": 1561961335697,
     "user": {
      "displayName": "junseop so",
      "photoUrl": "",
      "userId": "03070847090635331575"
     },
     "user_tz": -540
    },
    "id": "Fxj6pWjFOrkP",
    "outputId": "1ba42f4d-dd56-4950-f578-d10628921421"
   },
   "outputs": [
    {
     "name": "stdout",
     "output_type": "stream",
     "text": [
      "    0|    1.3756|    0.4081|  4.516528\n",
      "   10|    0.9549|    0.2814|  0.033990\n",
      "   20|    0.9290|    0.2645|  0.012853\n",
      "   30|    0.9295|    0.2551|  0.011926\n",
      "   40|    0.9317|    0.2466|  0.011144\n",
      "   50|    0.9340|    0.2384|  0.010415\n",
      "   60|    0.9362|    0.2305|  0.009733\n",
      "   70|    0.9383|    0.2228|  0.009095\n",
      "   80|    0.9403|    0.2154|  0.008500\n",
      "   90|    0.9423|    0.2082|  0.007943\n"
     ]
    },
    {
     "data": {
      "image/png": "[encoded data removed]",
      "text/plain": [
       "<Figure size 432x288 with 1 Axes>"
      ]
     },
     "metadata": {
      "needs_background": "light"
     },
     "output_type": "display_data"
    }
   ],
   "source": [
    "for i in range(100):\n",
    "    with tf.GradientTape() as tape:\n",
    "        #가설 설정\n",
    "        hypothesis = W * x_data + b\n",
    "        # Cost 함수 설정\n",
    "        cost = tf.reduce_mean(tf.square(hypothesis - y_data))\n",
    "        \n",
    "    W_grad, b_grad = tape.gradient(cost, [W, b]) # gradient 계산\n",
    "    \n",
    "    learning_rate = 0.01\n",
    "    # 가중치 업데이트\n",
    "    W.assign_sub(learning_rate * W_grad)\n",
    "    b.assign_sub(learning_rate * b_grad)\n",
    "    \n",
    "    if i % 10 == 0:\n",
    "      print(\"{:5}|{:10.4f}|{:10.4f}|{:10.6f}\".format(i, W.numpy(), b.numpy(), cost))\n",
    "\n",
    "plt.plot(x_data, y_data, 'o')\n",
    "plt.plot(x_data, hypothesis.numpy(), 'r-')\n",
    "plt.show()\n"
   ]
  },
  {
   "cell_type": "code",
   "execution_count": null,
   "metadata": {},
   "outputs": [],
   "source": []
  }
 ],
 "metadata": {
  "accelerator": "GPU",
  "colab": {
   "collapsed_sections": [],
   "name": "1 - Linear Regression.ipynb",
   "provenance": [],
   "version": "0.3.2"
  },
  "kernelspec": {
   "display_name": "Python 3",
   "language": "python",
   "name": "python3"
  },
  "language_info": {
   "codemirror_mode": {
    "name": "ipython",
    "version": 3
   },
   "file_extension": ".py",
   "mimetype": "text/x-python",
   "name": "python",
   "nbconvert_exporter": "python",
   "pygments_lexer": "ipython3",
   "version": "3.7.3"
  }
 },
 "nbformat": 4,
 "nbformat_minor": 4
}
