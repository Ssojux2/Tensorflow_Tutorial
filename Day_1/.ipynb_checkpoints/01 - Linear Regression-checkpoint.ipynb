{
 "cells": [
  {
   "cell_type": "markdown",
   "metadata": {
    "colab_type": "text",
    "id": "z8juHB30ID_y"
   },
   "source": [
    "# Linear Regression"
   ]
  },
  {
   "cell_type": "markdown",
   "metadata": {
    "colab_type": "text",
    "id": "8YN6sNhzIMM1"
   },
   "source": [
    "\n"
   ]
  },
  {
   "cell_type": "code",
   "execution_count": null,
   "metadata": {
    "colab": {
     "base_uri": "https://localhost:8080/",
     "height": 34
    },
    "colab_type": "code",
    "executionInfo": {
     "elapsed": 1093,
     "status": "ok",
     "timestamp": 1561961328988,
     "user": {
      "displayName": "junseop so",
      "photoUrl": "",
      "userId": "03070847090635331575"
     },
     "user_tz": -540
    },
    "id": "fgFXOeQ3IGBv",
    "outputId": "4d8c164d-5001-4e8a-d052-c9e0547d96db"
   },
   "outputs": [],
   "source": [
    "import tensorflow as tf\n",
    "import numpy as np\n",
    "import matplotlib.pyplot as plt\n",
    "\n",
    "tf.enable_eager_execution()\n",
    "tf.__version__"
   ]
  },
  {
   "cell_type": "markdown",
   "metadata": {
    "colab_type": "text",
    "id": "6UTdIW-gJWwr"
   },
   "source": [
    "## Hypothesis\n",
    "\n",
    "* 우리가 세운 가설을 코드로 만들어봅시다.\n",
    "\n",
    "$$ H(x) = Wx + b $$\n",
    "\n",
    "* 예측해야되는 데이터는 주어집니다."
   ]
  },
  {
   "cell_type": "code",
   "execution_count": null,
   "metadata": {
    "colab": {
     "base_uri": "https://localhost:8080/",
     "height": 269
    },
    "colab_type": "code",
    "executionInfo": {
     "elapsed": 1150,
     "status": "ok",
     "timestamp": 1561961329498,
     "user": {
      "displayName": "junseop so",
      "photoUrl": "",
      "userId": "03070847090635331575"
     },
     "user_tz": -540
    },
    "id": "R6EeL-OAJpKd",
    "outputId": "ef91515b-dcd4-4ead-8df5-5d09af3fe05c"
   },
   "outputs": [],
   "source": [
    "# 주어진 데이터를 확인해 봅시다.\n",
    "x_data = [1, 2, 3, 4, 5]\n",
    "y_data = [1, 2, 3, 4, 5]\n",
    "\n",
    "W = tf.Variable(1.7) # 임의의 값\n",
    "b = tf.Variable(0.5) # 임의의 값\n",
    "\n",
    "# Hpyothesis 가설\n",
    "hypothesis = W * x_data + b\n",
    "\n",
    "# 표로 출력\n",
    "plt.plot(x_data, hypothesis.numpy())\n",
    "plt.plot(x_data, y_data, 'o')\n",
    "plt.show()"
   ]
  },
  {
   "cell_type": "markdown",
   "metadata": {
    "colab_type": "text",
    "id": "olIAgNvrJ1WO"
   },
   "source": [
    "## Cost\n",
    "$$ cost(W)=\\frac { 1 }{ m } \\sum _{i=1}^{m}{ { ({ H(x_{ i }) }-y_{ i } })^{ 2 } }  $$"
   ]
  },
  {
   "cell_type": "code",
   "execution_count": null,
   "metadata": {
    "colab": {
     "base_uri": "https://localhost:8080/",
     "height": 34
    },
    "colab_type": "code",
    "executionInfo": {
     "elapsed": 1180,
     "status": "ok",
     "timestamp": 1561961331141,
     "user": {
      "displayName": "junseop so",
      "photoUrl": "",
      "userId": "03070847090635331575"
     },
     "user_tz": -540
    },
    "id": "31iigy8iLqcO",
    "outputId": "a2b26f08-8560-4305-84d3-6e6d398f66c1"
   },
   "outputs": [],
   "source": [
    "# Cost function == Loss Function\n",
    "cost = tf.reduce_mean(tf.square(hypothesis - y_data))\n",
    "\n",
    "sq = tf.square(3) # 제곱을 해주는 함수\n",
    "print(sq)\n"
   ]
  },
  {
   "cell_type": "markdown",
   "metadata": {
    "colab_type": "text",
    "id": "MhRaJ2h965WJ"
   },
   "source": [
    "# Cost Function을 조금 더 쉽게 표현해봅시다.\n",
    "## Simplifed hypothesis\n",
    "\n",
    "$$ H(x) = Wx $$ \n",
    "\n",
    "$$ cost(W)=\\frac { 1 }{ m } \\sum _{i=1}^{m}{ { ({ H(x_{ i }) }-y_{ i } })^{ 2 } }  $$\n",
    "\n",
    "* b 를 W 행렬에 포함 시킬 수 있기 때문에 생략이 가능하다\n",
    "* Cost 함수를 정의해보자\n",
    "\n",
    "* 차원을 축소시켜서 생각해 볼 수 있다.\n"
   ]
  },
  {
   "cell_type": "code",
   "execution_count": null,
   "metadata": {
    "colab": {},
    "colab_type": "code",
    "id": "ew3Jx4nX7FKZ"
   },
   "outputs": [],
   "source": [
    "def cost_func(W, X, Y):\n",
    "  hypothesis = X * W\n",
    "  return tf.reduce_mean(tf.square(hypothesis - Y))"
   ]
  },
  {
   "cell_type": "markdown",
   "metadata": {
    "colab_type": "text",
    "id": "bddR0hao7NJN"
   },
   "source": [
    "## 우리가 가정한 Cost Funtion을 살펴보자\n",
    "\n",
    "$$ cost(W)=\\frac { 1 }{ m } \\sum _{i=1}^{m}{ { ({ H(x_{ i }) }-y_{ i } })^{ 2 } }  $$\n",
    "\n",
    "W = -1, cost(W) = 18.67\n",
    "$$ cost(W)=\\frac { 1 }{ 3 } ( (-1 * 1 - 1)^2 + (-1 * 2 - 2)^2 + (-1 * 3 - 3)^2) $$\n",
    "\n",
    "W = 0, cost(W) = 4.67\n",
    "$$ cost(W)=\\frac { 1 }{ 3 } ( (0 * 1 - 1)^2 + (0 * 2 - 2)^2 + (0 * 3 - 3)^2) $$\n",
    "\n",
    "W = 1, cost(W) = 0\n",
    "$$ cost(W)=\\frac { 1 }{ 3 } ( (1 * 1 - 1)^2 + (1 * 2 - 2)^2 + (1 * 3 - 3)^2) $$\n",
    "\n",
    "W = 2, cost(W) = 4.67\n",
    "$$ cost(W)=\\frac { 1 }{ 3 } ( (2 * 1 - 1)^2 + (2 * 2 - 2)^2 + (2 * 3 - 3)^2) $$\n"
   ]
  },
  {
   "cell_type": "code",
   "execution_count": null,
   "metadata": {
    "colab": {
     "base_uri": "https://localhost:8080/",
     "height": 538
    },
    "colab_type": "code",
    "executionInfo": {
     "elapsed": 1248,
     "status": "ok",
     "timestamp": 1561961073594,
     "user": {
      "displayName": "junseop so",
      "photoUrl": "",
      "userId": "03070847090635331575"
     },
     "user_tz": -540
    },
    "id": "DcbA7CkYH5IW",
    "outputId": "82670b03-91da-40fe-8e97-77b03a9141dc",
    "scrolled": false
   },
   "outputs": [],
   "source": [
    "X = np.array([1, 2, 3])\n",
    "Y = np.array([1, 2, 3])\n",
    "\n",
    "W_values = np.linspace(-3, 5, num=15) # -3 ~ 5 사이의 15개 숫자들 - 15등분\n",
    "cost_values = []\n",
    "\n",
    "for feed_W in W_values:\n",
    "    curr_cost = cost_func(feed_W, X, Y)\n",
    "    cost_values.append(curr_cost)\n",
    "    print(\"{:6.3f} | {:10.5f}\".format(feed_W, curr_cost))\n",
    "    \n",
    "plt.plot(W_values, cost_values, \"b\")\n",
    "plt.ylabel('Cost(W)')\n",
    "plt.xlabel('W')\n",
    "plt.grid(True)\n",
    "plt.show()"
   ]
  },
  {
   "cell_type": "markdown",
   "metadata": {
    "colab_type": "text",
    "id": "3J0IwKqtJJGS"
   },
   "source": [
    "# Cost Function을 이용해서 최적 값은 어떻게 찾는것일까?\n",
    "\n",
    "## Minimizing Cost == Gradient descent\n",
    "\n",
    "$$ cost(W)=\\frac { 1 }{ 2m } \\sum _{i=1}^{m}{ { ({ H(x_{ i }) }-y_{ i } })^{ 2 } }  $$\n",
    "\n",
    "$$ W:=W-\\alpha \\frac { 1 }{ m } \\sum _{i=1}^{m}{ { ({ H(x_{ i }) }-y_{ i } })^{ 2 } }  $$\n",
    "\n",
    "$$ \\alpha = Learning Rate $$"
   ]
  },
  {
   "cell_type": "code",
   "execution_count": null,
   "metadata": {
    "colab": {
     "base_uri": "https://localhost:8080/",
     "height": 527
    },
    "colab_type": "code",
    "executionInfo": {
     "elapsed": 2126,
     "status": "ok",
     "timestamp": 1561961962494,
     "user": {
      "displayName": "junseop so",
      "photoUrl": "",
      "userId": "03070847090635331575"
     },
     "user_tz": -540
    },
    "id": "4HaRA3N1JMvA",
    "outputId": "cef90683-d0ea-4877-b5c3-fea07a65d34a"
   },
   "outputs": [],
   "source": [
    "x_data = [1., 2., 3., 4.]\n",
    "y_data = [1., 3., 5., 7.]\n",
    "\n",
    "W = tf.Variable([4.1]) # mean, deviation\n",
    "\n",
    "for step in range(300):\n",
    "    hypothesis = W * X\n",
    "    cost = tf.reduce_mean(tf.square(hypothesis - Y))\n",
    "\n",
    "    # Gradient Descent의 동작 원리\n",
    "    lr = 0.01\n",
    "    gradient = tf.reduce_mean(tf.multiply(tf.multiply(W, X) - Y, X))\n",
    "    descent = W - tf.multiply(lr, gradient)\n",
    "    W.assign(descent)\n",
    "    \n",
    "    if step % 10 == 0:\n",
    "        print(\"step : {:3}, cost :  {:5.4f}, W : {:5.6f}\".format(step, cost.numpy(), W.numpy()[0]))\n",
    "        "
   ]
  },
  {
   "cell_type": "markdown",
   "metadata": {
    "colab_type": "text",
    "id": "YXaVsxPGDTdP"
   },
   "source": [
    "# 다시 돌아와서 가설과 Cost Function을 이용해 계산해봅시다.\n",
    "## GradientTape()\n",
    "* 위에서는 직접 가중치의 업데이트를 진행\n",
    "* TF에서 지원하는 함수로 업데이트할 가중치를 계산해 주는 역할\n",
    "* Cost 함수와 예측 값으로 가중치를 얼마나 업데이트할지 결정해준다."
   ]
  },
  {
   "cell_type": "code",
   "execution_count": null,
   "metadata": {
    "colab": {
     "base_uri": "https://localhost:8080/",
     "height": 34
    },
    "colab_type": "code",
    "executionInfo": {
     "elapsed": 1326,
     "status": "ok",
     "timestamp": 1561961332370,
     "user": {
      "displayName": "junseop so",
      "photoUrl": "",
      "userId": "03070847090635331575"
     },
     "user_tz": -540
    },
    "id": "Q0Ka_VnULyZ2",
    "outputId": "18603395-4b28-4997-a3b2-b239e2a7b6a7"
   },
   "outputs": [],
   "source": [
    "W = tf.Variable(1.7) # 임의의 값\n",
    "b = tf.Variable(0.5) # 임의의 값\n",
    "\n",
    "with tf.GradientTape() as tape:\n",
    "  hypothesis = W * x_data + b\n",
    "  cost = tf.reduce_mean(tf.square(hypothesis - y_data))\n",
    "  \n",
    "W_grad, b_grad = tape.gradient(cost, [W, b])\n",
    "\n",
    "print(W_grad, b_grad)\n"
   ]
  },
  {
   "cell_type": "markdown",
   "metadata": {
    "colab_type": "text",
    "id": "WoIf_xhLN77Q"
   },
   "source": [
    "## assign_sub()\n",
    "\n",
    "* A = A - B\n",
    "* A -= B\n",
    "* 위의 계산을 해주는 함수\n",
    "\n",
    "* 가중치 값을 업데이트"
   ]
  },
  {
   "cell_type": "code",
   "execution_count": null,
   "metadata": {
    "colab": {
     "base_uri": "https://localhost:8080/",
     "height": 34
    },
    "colab_type": "code",
    "executionInfo": {
     "elapsed": 548,
     "status": "ok",
     "timestamp": 1561961332788,
     "user": {
      "displayName": "junseop so",
      "photoUrl": "",
      "userId": "03070847090635331575"
     },
     "user_tz": -540
    },
    "id": "-ZeGq578MItm",
    "outputId": "be686425-a469-4d7c-b6b0-970bf5998eeb"
   },
   "outputs": [],
   "source": [
    "learning_rate = 0.01\n",
    "\n",
    "W.assign_sub(learning_rate * W_grad)\n",
    "b.assign_sub(learning_rate * b_grad)\n",
    "\n",
    "W.numpy(), b.numpy()"
   ]
  },
  {
   "cell_type": "markdown",
   "metadata": {
    "colab_type": "text",
    "id": "pwJH_SysN4LP"
   },
   "source": [
    "### 여러번 돌려봅시다."
   ]
  },
  {
   "cell_type": "code",
   "execution_count": null,
   "metadata": {
    "colab": {
     "base_uri": "https://localhost:8080/",
     "height": 439
    },
    "colab_type": "code",
    "executionInfo": {
     "elapsed": 1378,
     "status": "ok",
     "timestamp": 1561961335697,
     "user": {
      "displayName": "junseop so",
      "photoUrl": "",
      "userId": "03070847090635331575"
     },
     "user_tz": -540
    },
    "id": "Fxj6pWjFOrkP",
    "outputId": "1ba42f4d-dd56-4950-f578-d10628921421"
   },
   "outputs": [],
   "source": [
    "for i in range(100):\n",
    "    with tf.GradientTape() as tape:\n",
    "        hypothesis = W * x_data + b\n",
    "        cost = tf.reduce_mean(tf.square(hypothesis - y_data))\n",
    "        \n",
    "    W_grad, b_grad = tape.gradient(cost, [W, b]) # gradient 계산\n",
    "    \n",
    "    learning_rate = 0.01\n",
    "    \n",
    "    W.assign_sub(learning_rate * W_grad)\n",
    "    b.assign_sub(learning_rate * b_grad)\n",
    "    \n",
    "    if i % 10 == 0:\n",
    "      print(\"{:5}|{:10.4f}|{:10.4f}|{:10.6f}\".format(i, W.numpy(), b.numpy(), cost))\n",
    "\n",
    "plt.plot(x_data, y_data, 'o')\n",
    "plt.plot(x_data, hypothesis.numpy(), 'r-')\n",
    "plt.show()\n"
   ]
  },
  {
   "cell_type": "code",
   "execution_count": null,
   "metadata": {},
   "outputs": [],
   "source": []
  }
 ],
 "metadata": {
  "accelerator": "GPU",
  "colab": {
   "collapsed_sections": [],
   "name": "1 - Linear Regression.ipynb",
   "provenance": [],
   "version": "0.3.2"
  },
  "kernelspec": {
   "display_name": "Python 3",
   "language": "python",
   "name": "python3"
  },
  "language_info": {
   "codemirror_mode": {
    "name": "ipython",
    "version": 3
   },
   "file_extension": ".py",
   "mimetype": "text/x-python",
   "name": "python",
   "nbconvert_exporter": "python",
   "pygments_lexer": "ipython3",
   "version": "3.7.3"
  }
 },
 "nbformat": 4,
 "nbformat_minor": 1
}
