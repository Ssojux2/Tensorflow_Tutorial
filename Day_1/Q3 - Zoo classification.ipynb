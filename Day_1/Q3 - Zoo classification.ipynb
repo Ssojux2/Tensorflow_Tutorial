{
 "cells": [
  {
   "cell_type": "code",
   "execution_count": null,
   "metadata": {
    "colab": {
     "base_uri": "https://localhost:8080/",
     "height": 34
    },
    "colab_type": "code",
    "executionInfo": {
     "elapsed": 1722,
     "status": "ok",
     "timestamp": 1561974130082,
     "user": {
      "displayName": "junseop so",
      "photoUrl": "",
      "userId": "03070847090635331575"
     },
     "user_tz": -540
    },
    "id": "HA9F-ehts7th",
    "outputId": "d8f541aa-47ab-4807-8af7-087ca8c48d6c"
   },
   "outputs": [],
   "source": [
    "import tensorflow as tf\n",
    "import numpy as np\n",
    "import matplotlib.pyplot as plt\n",
    "\n",
    "tf.enable_eager_execution()\n",
    "tf.__version__"
   ]
  },
  {
   "cell_type": "markdown",
   "metadata": {},
   "source": [
    "# ZOO classification\n",
    "\n",
    "### Data list\n",
    "\n",
    "1. 동물 이름  animal name:     (deleted)\n",
    "2. 털  hair     Boolean\n",
    "3. 깃털  feathers     Boolean\n",
    "4. 알  eggs     Boolean\n",
    "5. 우유 milk     Boolean\n",
    "6. 날 수있는지  airborne     Boolean\n",
    "7. 수중 생물  aquatic      Boolean\n",
    "8. 포식자  predator     Boolean\n",
    "9. 이빨이 있는지 toothed      Boolean\n",
    "10. 척추 동물  backbone     Boolean\n",
    "11. 호흡 방법  breathes     Boolean\n",
    "12. 독  venomous     Boolean\n",
    "13. 물갈퀴  fins     Boolean\n",
    "14. 다리  legs     Numeric (set of values: {0\",2,4,5,6,8})\n",
    "15. 꼬리  tail     Boolean\n",
    "16. 사육 가능한 지 domestic     Boolean\n",
    "17. 고양이 크기인지 catsize      Boolean\n",
    "18. 동물 타입 type     Numeric (integer values in range [0\",6])"
   ]
  },
  {
   "cell_type": "code",
   "execution_count": null,
   "metadata": {
    "colab": {
     "base_uri": "https://localhost:8080/",
     "height": 85
    },
    "colab_type": "code",
    "executionInfo": {
     "elapsed": 2464,
     "status": "ok",
     "timestamp": 1561974130848,
     "user": {
      "displayName": "junseop so",
      "photoUrl": "",
      "userId": "03070847090635331575"
     },
     "user_tz": -540
    },
    "id": "-i11AGBVtU1s",
    "outputId": "8f46e150-3273-4a30-d882-d3452b150700"
   },
   "outputs": [],
   "source": [
    "xy = np.loadtxt('./data-04-zoo.csv', delimiter=',', dtype=np.int32)\n",
    "x_train = xy[0:-10, 0:-1]\n",
    "y_train = xy[0:-10, [-1]]\n",
    "\n",
    "x_train = tf.cast(x_train, tf.float32)\n",
    "\n",
    "x_test = xy[-10:, 0:-1]\n",
    "y_test = xy[-10:, [-1]]\n",
    "\n",
    "x_test = tf.cast(x_test, tf.float32)\n",
    "\n",
    "nb_classes = 7  # 0 ~ 6\n",
    "\n",
    "y_train = tf.one_hot(list(y_train), nb_classes)\n",
    "y_train = tf.reshape(y_train, [-1, nb_classes])\n",
    "\n",
    "y_test = tf.one_hot(list(y_test), nb_classes)\n",
    "y_test = tf.reshape(y_test, [-1, nb_classes])\n",
    "\n",
    "print(x_train.shape, y_train.shape)\n",
    "print(x_test.shape, y_test.shape)\n",
    "\n",
    "print(x_train.dtype, y_train.dtype)\n",
    "print(x_test.dtype, y_test.dtype)\n"
   ]
  },
  {
   "cell_type": "code",
   "execution_count": null,
   "metadata": {
    "colab": {
     "base_uri": "https://localhost:8080/",
     "height": 34
    },
    "colab_type": "code",
    "executionInfo": {
     "elapsed": 2454,
     "status": "ok",
     "timestamp": 1561974130852,
     "user": {
      "displayName": "junseop so",
      "photoUrl": "",
      "userId": "03070847090635331575"
     },
     "user_tz": -540
    },
    "id": "vA5v-Z1butQj",
    "outputId": "941ba72a-2a44-4fe2-a9d0-20e36775c166"
   },
   "outputs": [],
   "source": [
    "dataset = tf.data.Dataset.from_tensor_slices((x_train, y_train)).batch(len(x_train))\n",
    "\n",
    "W = tf.Variable(tf.random_normal([# TODO]), name='weight')\n",
    "b = tf.Variable(tf.random_normal([# TODO]), name='bias')\n",
    "\n",
    "print(W.shape, b.shape)"
   ]
  },
  {
   "cell_type": "markdown",
   "metadata": {},
   "source": [
    "# 가설 설정\n",
    "\n",
    "* 주어진 동물의 데이터들로 분류하는 가설 모델을 생성한다\n",
    "\n",
    "## $$ y_k = \\frac{exp(x_k)}{\\sum_{i=1}^{n}exp(x_i)}  $$"
   ]
  },
  {
   "cell_type": "code",
   "execution_count": null,
   "metadata": {
    "colab": {
     "base_uri": "https://localhost:8080/",
     "height": 1000
    },
    "colab_type": "code",
    "executionInfo": {
     "elapsed": 2698,
     "status": "ok",
     "timestamp": 1561974131105,
     "user": {
      "displayName": "junseop so",
      "photoUrl": "",
      "userId": "03070847090635331575"
     },
     "user_tz": -540
    },
    "id": "koTAYczVts_I",
    "outputId": "e5352e1d-81ed-49a9-f3f0-78638c3cb316"
   },
   "outputs": [],
   "source": [
    "def logistic_regression(features):\n",
    "    return tf.nn.softmax(tf.matmul(# TODO) + b)\n",
    "  \n",
    "print(logistic_regression(x_train))"
   ]
  },
  {
   "cell_type": "markdown",
   "metadata": {},
   "source": [
    "## Loss Function\n",
    "\n",
    "## $$\n",
    "\\begin{align}\n",
    "loss(h(x),y) & = −y log(h(x))−(1−y)log(1−h(x))\n",
    "\\end{align}\n",
    "$$"
   ]
  },
  {
   "cell_type": "code",
   "execution_count": null,
   "metadata": {
    "colab": {},
    "colab_type": "code",
    "id": "sh42tbvItxYP"
   },
   "outputs": [],
   "source": [
    "def loss_fn(hypothesis, labels):\n",
    "    loss = # TODO\n",
    "    return loss\n",
    "\n",
    "optimizer = tf.train.GradientDescentOptimizer(learning_rate=# TODO)"
   ]
  },
  {
   "cell_type": "code",
   "execution_count": null,
   "metadata": {
    "colab": {
     "base_uri": "https://localhost:8080/",
     "height": 867
    },
    "colab_type": "code",
    "executionInfo": {
     "elapsed": 31628,
     "status": "ok",
     "timestamp": 1561974160049,
     "user": {
      "displayName": "junseop so",
      "photoUrl": "",
      "userId": "03070847090635331575"
     },
     "user_tz": -540
    },
    "id": "ZOSOjizZtx03",
    "outputId": "110519ac-c33c-4834-f46d-58763f427e88"
   },
   "outputs": [],
   "source": [
    "epochs = 5000\n",
    "\n",
    "for step in range(epochs):\n",
    "  for features, labels in dataset:\n",
    "    with tf.GradientTape() as tape:\n",
    "      loss_value = loss_fn(# TODO)\n",
    "      grads = tape.gradient(# TODO)\n",
    "      optimizer.apply_gradients(grads_and_vars=zip(# TODO))\n",
    "      if step % 100 == 0:\n",
    "            print(\"Iter: {}, Loss: {:.4f}\".format(step, loss_fn(logistic_regression(features),labels)))\n",
    "          "
   ]
  },
  {
   "cell_type": "code",
   "execution_count": null,
   "metadata": {
    "colab": {},
    "colab_type": "code",
    "id": "5vben5FYty5m"
   },
   "outputs": [],
   "source": [
    "def accuracy_fn(hypothesis, labels):\n",
    "    predicted = tf.cast(hypothesis > 0.5, dtype=tf.float32)\n",
    "    accuracy = tf.reduce_mean(tf.cast(tf.equal(predicted, labels), dtype=tf.float32))\n",
    "    return accuracy"
   ]
  },
  {
   "cell_type": "code",
   "execution_count": null,
   "metadata": {
    "colab": {
     "base_uri": "https://localhost:8080/",
     "height": 34
    },
    "colab_type": "code",
    "executionInfo": {
     "elapsed": 31619,
     "status": "ok",
     "timestamp": 1561974160053,
     "user": {
      "displayName": "junseop so",
      "photoUrl": "",
      "userId": "03070847090635331575"
     },
     "user_tz": -540
    },
    "id": "GSS_yRMRt6Pp",
    "outputId": "72abfbfb-877f-446a-e27b-08797850962a"
   },
   "outputs": [],
   "source": [
    "test_acc = accuracy_fn(logistic_regression(x_test),y_test)\n",
    "print(\"Testset Accuracy: {:.4f}\".format(test_acc))"
   ]
  },
  {
   "cell_type": "code",
   "execution_count": null,
   "metadata": {
    "colab": {},
    "colab_type": "code",
    "id": "gNNmvKIyt6pI"
   },
   "outputs": [],
   "source": []
  }
 ],
 "metadata": {
  "accelerator": "GPU",
  "colab": {
   "name": "Q2 - Zoo classification.ipynb",
   "provenance": [],
   "version": "0.3.2"
  },
  "kernelspec": {
   "display_name": "Python 3",
   "language": "python",
   "name": "python3"
  },
  "language_info": {
   "codemirror_mode": {
    "name": "ipython",
    "version": 3
   },
   "file_extension": ".py",
   "mimetype": "text/x-python",
   "name": "python",
   "nbconvert_exporter": "python",
   "pygments_lexer": "ipython3",
   "version": "3.7.3"
  }
 },
 "nbformat": 4,
 "nbformat_minor": 1
}
