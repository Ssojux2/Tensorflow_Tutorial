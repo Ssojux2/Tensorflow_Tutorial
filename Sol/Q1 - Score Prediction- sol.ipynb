{
 "cells": [
  {
   "cell_type": "markdown",
   "metadata": {},
   "source": [
    "# Score prediction\n"
   ]
  },
  {
   "cell_type": "code",
   "execution_count": 2,
   "metadata": {
    "colab": {
     "base_uri": "https://localhost:8080/",
     "height": 34
    },
    "colab_type": "code",
    "executionInfo": {
     "elapsed": 3150,
     "status": "ok",
     "timestamp": 1562041820599,
     "user": {
      "displayName": "junseop so",
      "photoUrl": "",
      "userId": "03070847090635331575"
     },
     "user_tz": -540
    },
    "id": "ENBsugN3Z25Z",
    "outputId": "52b28425-a35f-4fc9-a934-0a4939412ad4"
   },
   "outputs": [
    {
     "data": {
      "text/plain": [
       "'2.0.0'"
      ]
     },
     "execution_count": 2,
     "metadata": {},
     "output_type": "execute_result"
    }
   ],
   "source": [
    "import tensorflow as tf\n",
    "import numpy as np\n",
    "import matplotlib.pyplot as plt\n",
    "\n",
    "tf.__version__"
   ]
  },
  {
   "cell_type": "markdown",
   "metadata": {},
   "source": [
    "## Setting Data"
   ]
  },
  {
   "cell_type": "code",
   "execution_count": 4,
   "metadata": {
    "colab": {
     "base_uri": "https://localhost:8080/",
     "height": 34
    },
    "colab_type": "code",
    "executionInfo": {
     "elapsed": 3144,
     "status": "ok",
     "timestamp": 1562041820600,
     "user": {
      "displayName": "junseop so",
      "photoUrl": "",
      "userId": "03070847090635331575"
     },
     "user_tz": -540
    },
    "id": "8tyyJQoVZtv6",
    "outputId": "62e7b4b0-33a2-4bc2-8828-df7594952210"
   },
   "outputs": [
    {
     "name": "stdout",
     "output_type": "stream",
     "text": [
      "(25, 3) (25, 1)\n"
     ]
    }
   ],
   "source": [
    "xy = np.loadtxt('../Day_1/data-01-test-score.csv', delimiter=',', dtype=np.float32)\n",
    "\n",
    "x_train = xy[:, 0:-1]\n",
    "y_train = xy[:, [-1]]\n",
    "\n",
    "print(x_train.shape, y_train.shape)\n"
   ]
  },
  {
   "cell_type": "markdown",
   "metadata": {},
   "source": [
    "## make a dataset"
   ]
  },
  {
   "cell_type": "code",
   "execution_count": 6,
   "metadata": {},
   "outputs": [],
   "source": [
    "dataset = tf.data.Dataset.from_tensor_slices((x_train, y_train)).batch(len(x_train))\n"
   ]
  },
  {
   "cell_type": "code",
   "execution_count": 8,
   "metadata": {
    "colab": {
     "base_uri": "https://localhost:8080/",
     "height": 105
    },
    "colab_type": "code",
    "executionInfo": {
     "elapsed": 3134,
     "status": "ok",
     "timestamp": 1562041820600,
     "user": {
      "displayName": "junseop so",
      "photoUrl": "",
      "userId": "03070847090635331575"
     },
     "user_tz": -540
    },
    "id": "yy6hZwGy45kO",
    "outputId": "38ddca41-af7a-491a-b097-619b4b1d1a31"
   },
   "outputs": [
    {
     "name": "stdout",
     "output_type": "stream",
     "text": [
      "<tf.Variable 'weight:0' shape=(3, 1) dtype=float32, numpy=\n",
      "array([[-2.3199434 ],\n",
      "       [ 0.5206009 ],\n",
      "       [-0.94628954]], dtype=float32)> <tf.Variable 'bias:0' shape=(1,) dtype=float32, numpy=array([-0.66993815], dtype=float32)>\n"
     ]
    }
   ],
   "source": [
    "W = tf.Variable(tf.random.normal([3, 1]), name='weight')\n",
    "b = tf.Variable(tf.random.normal([1]), name='bias')\n",
    "\n",
    "print(W,b)\n"
   ]
  },
  {
   "cell_type": "code",
   "execution_count": 9,
   "metadata": {
    "colab": {
     "base_uri": "https://localhost:8080/",
     "height": 459
    },
    "colab_type": "code",
    "executionInfo": {
     "elapsed": 3126,
     "status": "ok",
     "timestamp": 1562041820601,
     "user": {
      "displayName": "junseop so",
      "photoUrl": "",
      "userId": "03070847090635331575"
     },
     "user_tz": -540
    },
    "id": "22WmI9ygawt_",
    "outputId": "8fdb277a-a5e8-447c-9c4e-adc73fc1bb04"
   },
   "outputs": [
    {
     "name": "stdout",
     "output_type": "stream",
     "text": [
      "tf.Tensor(\n",
      "[[-199.34944]\n",
      " [-258.61673]\n",
      " [-244.93628]\n",
      " [-266.9946 ]\n",
      " [-201.9064 ]\n",
      " [-151.72522]\n",
      " [-195.08586]\n",
      " [-137.331  ]\n",
      " [-246.54361]\n",
      " [-230.77689]\n",
      " [-193.3831 ]\n",
      " [-199.25233]\n",
      " [-253.07994]\n",
      " [-211.37654]\n",
      " [-198.8727 ]\n",
      " [-260.93503]\n",
      " [-206.92815]\n",
      " [-229.7362 ]\n",
      " [-238.3106 ]\n",
      " [-211.27992]\n",
      " [-231.29968]\n",
      " [-241.71558]\n",
      " [-218.85023]\n",
      " [-200.96233]\n",
      " [-264.86612]], shape=(25, 1), dtype=float32)\n"
     ]
    }
   ],
   "source": [
    "def linear_regression(features):\n",
    "    hypothesis  = tf.matmul(features, W) + b\n",
    "    return hypothesis\n",
    "  \n",
    "print(linear_regression(x_train))"
   ]
  },
  {
   "cell_type": "code",
   "execution_count": 12,
   "metadata": {
    "colab": {},
    "colab_type": "code",
    "id": "RY6ssJoXarTa"
   },
   "outputs": [],
   "source": [
    "def loss_fn(hypothesis, labels):\n",
    "    cost = tf.reduce_mean(tf.square(hypothesis - labels))\n",
    "    return cost\n",
    "\n",
    "optimizer = tf.compat.v1.train.GradientDescentOptimizer(learning_rate=0.00001)"
   ]
  },
  {
   "cell_type": "code",
   "execution_count": 13,
   "metadata": {
    "colab": {
     "base_uri": "https://localhost:8080/",
     "height": 867
    },
    "colab_type": "code",
    "executionInfo": {
     "elapsed": 18208,
     "status": "ok",
     "timestamp": 1562042079118,
     "user": {
      "displayName": "junseop so",
      "photoUrl": "",
      "userId": "03070847090635331575"
     },
     "user_tz": -540
    },
    "id": "wo2YiZdYaEQw",
    "outputId": "4cc2d6a8-70b1-45aa-f094-b5f70d9c0da5"
   },
   "outputs": [
    {
     "name": "stdout",
     "output_type": "stream",
     "text": [
      "Iter: 0, Loss: 55075.5781\n",
      "Iter: 100, Loss: 68.2053\n",
      "Iter: 200, Loss: 63.7772\n",
      "Iter: 300, Loss: 59.6837\n",
      "Iter: 400, Loss: 55.8984\n",
      "Iter: 500, Loss: 52.3970\n",
      "Iter: 600, Loss: 49.1574\n",
      "Iter: 700, Loss: 46.1587\n",
      "Iter: 800, Loss: 43.3825\n",
      "Iter: 900, Loss: 40.8111\n",
      "Iter: 1000, Loss: 38.4290\n",
      "Iter: 1100, Loss: 36.2212\n",
      "Iter: 1200, Loss: 34.1743\n",
      "Iter: 1300, Loss: 32.2761\n",
      "Iter: 1400, Loss: 30.5150\n",
      "Iter: 1500, Loss: 28.8807\n",
      "Iter: 1600, Loss: 27.3634\n",
      "Iter: 1700, Loss: 25.9541\n",
      "Iter: 1800, Loss: 24.6449\n",
      "Iter: 1900, Loss: 23.4282\n",
      "Iter: 2000, Loss: 22.2969\n",
      "Iter: 2100, Loss: 21.2448\n",
      "Iter: 2200, Loss: 20.2658\n",
      "Iter: 2300, Loss: 19.3547\n",
      "Iter: 2400, Loss: 18.5063\n",
      "Iter: 2500, Loss: 17.7161\n",
      "Iter: 2600, Loss: 16.9797\n",
      "Iter: 2700, Loss: 16.2933\n",
      "Iter: 2800, Loss: 15.6532\n",
      "Iter: 2900, Loss: 15.0561\n",
      "Iter: 3000, Loss: 14.4988\n",
      "Iter: 3100, Loss: 13.9786\n",
      "Iter: 3200, Loss: 13.4927\n",
      "Iter: 3300, Loss: 13.0388\n",
      "Iter: 3400, Loss: 12.6145\n",
      "Iter: 3500, Loss: 12.2178\n",
      "Iter: 3600, Loss: 11.8468\n",
      "Iter: 3700, Loss: 11.4996\n",
      "Iter: 3800, Loss: 11.1746\n",
      "Iter: 3900, Loss: 10.8703\n",
      "Iter: 4000, Loss: 10.5852\n",
      "Iter: 4100, Loss: 10.3181\n",
      "Iter: 4200, Loss: 10.0677\n",
      "Iter: 4300, Loss: 9.8329\n",
      "Iter: 4400, Loss: 9.6127\n",
      "Iter: 4500, Loss: 9.4060\n",
      "Iter: 4600, Loss: 9.2120\n",
      "Iter: 4700, Loss: 9.0298\n",
      "Iter: 4800, Loss: 8.8587\n",
      "Iter: 4900, Loss: 8.6979\n"
     ]
    }
   ],
   "source": [
    "epochs = 5000\n",
    "\n",
    "for step in range(epochs):\n",
    "  for features, labels in dataset:\n",
    "    with tf.GradientTape() as tape:\n",
    "      loss_value = loss_fn(linear_regression(features),labels)\n",
    "      grads = tape.gradient(loss_value, [W,b])\n",
    "      optimizer.apply_gradients(grads_and_vars=zip(grads,[W,b]))\n",
    "      if step % 100 == 0:\n",
    "            print(\"Iter: {}, Loss: {:.4f}\".format(step, loss_fn(linear_regression(features),labels)))"
   ]
  },
  {
   "cell_type": "code",
   "execution_count": 14,
   "metadata": {
    "colab": {
     "base_uri": "https://localhost:8080/",
     "height": 105
    },
    "colab_type": "code",
    "executionInfo": {
     "elapsed": 17836,
     "status": "ok",
     "timestamp": 1562042079119,
     "user": {
      "displayName": "junseop so",
      "photoUrl": "",
      "userId": "03070847090635331575"
     },
     "user_tz": -540
    },
    "id": "Fu1S6WVm4M1Y",
    "outputId": "36b3fdfd-5f33-4c05-add5-f2b17d60b8f8"
   },
   "outputs": [
    {
     "name": "stdout",
     "output_type": "stream",
     "text": [
      "<tf.Variable 'weight:0' shape=(3, 1) dtype=float32, numpy=\n",
      "array([[0.02941771],\n",
      "       [0.81190485],\n",
      "       [1.1772228 ]], dtype=float32)> <tf.Variable 'bias:0' shape=(1,) dtype=float32, numpy=array([-0.6564682], dtype=float32)>\n"
     ]
    }
   ],
   "source": [
    "print(W, b)"
   ]
  },
  {
   "cell_type": "code",
   "execution_count": 15,
   "metadata": {
    "colab": {
     "base_uri": "https://localhost:8080/",
     "height": 269
    },
    "colab_type": "code",
    "executionInfo": {
     "elapsed": 17864,
     "status": "ok",
     "timestamp": 1562042079428,
     "user": {
      "displayName": "junseop so",
      "photoUrl": "",
      "userId": "03070847090635331575"
     },
     "user_tz": -540
    },
    "id": "cUJviOQ_aGVH",
    "outputId": "50dce8b3-6b38-4944-a4d8-0060e24398ce"
   },
   "outputs": [
    {
     "data": {
      "image/png": "[encoded data removed]",
      "text/plain": [
       "<Figure size 432x288 with 1 Axes>"
      ]
     },
     "metadata": {
      "needs_background": "light"
     },
     "output_type": "display_data"
    }
   ],
   "source": [
    "hypothesis= linear_regression(x_train)\n",
    "\n",
    "plt.plot(y_train, 'o-', color='red')\n",
    "plt.plot(hypothesis.numpy(), 'o-', color='blue')\n",
    "plt.show()"
   ]
  },
  {
   "cell_type": "code",
   "execution_count": null,
   "metadata": {
    "colab": {},
    "colab_type": "code",
    "id": "4mazQlt-ai-P"
   },
   "outputs": [],
   "source": []
  }
 ],
 "metadata": {
  "colab": {
   "collapsed_sections": [],
   "name": "Q1 - 성적 예측 - sol.ipynb의 사본",
   "provenance": [],
   "version": "0.3.2"
  },
  "kernelspec": {
   "display_name": "Python 3",
   "language": "python",
   "name": "python3"
  },
  "language_info": {
   "codemirror_mode": {
    "name": "ipython",
    "version": 3
   },
   "file_extension": ".py",
   "mimetype": "text/x-python",
   "name": "python",
   "nbconvert_exporter": "python",
   "pygments_lexer": "ipython3",
   "version": "3.7.3"
  }
 },
 "nbformat": 4,
 "nbformat_minor": 4
}
